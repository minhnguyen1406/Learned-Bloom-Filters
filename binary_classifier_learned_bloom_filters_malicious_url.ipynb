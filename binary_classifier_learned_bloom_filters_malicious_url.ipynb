{
  "cells": [
    {
      "cell_type": "code",
      "execution_count": 1,
      "metadata": {
        "colab": {
          "base_uri": "https://localhost:8080/"
        },
        "id": "lFbLj-LQJum2",
        "outputId": "cacc155c-7e61-4102-e2a9-b8ffa8c7bd71"
      },
      "outputs": [
        {
          "output_type": "stream",
          "name": "stdout",
          "text": [
            "Requirement already satisfied: tensorflow_hub in /usr/local/lib/python3.10/dist-packages (0.15.0)\n",
            "Requirement already satisfied: numpy>=1.12.0 in /usr/local/lib/python3.10/dist-packages (from tensorflow_hub) (1.23.5)\n",
            "Requirement already satisfied: protobuf>=3.19.6 in /usr/local/lib/python3.10/dist-packages (from tensorflow_hub) (3.20.3)\n",
            "Collecting bitarray\n",
            "  Downloading bitarray-2.8.5-cp310-cp310-manylinux_2_17_x86_64.manylinux2014_x86_64.whl (285 kB)\n",
            "\u001b[2K     \u001b[90m━━━━━━━━━━━━━━━━━━━━━━━━━━━━━━━━━━━━━━━━\u001b[0m \u001b[32m285.3/285.3 kB\u001b[0m \u001b[31m5.4 MB/s\u001b[0m eta \u001b[36m0:00:00\u001b[0m\n",
            "\u001b[?25hInstalling collected packages: bitarray\n",
            "Successfully installed bitarray-2.8.5\n",
            "  Preparing metadata (setup.py) ... \u001b[?25l\u001b[?25hdone\n",
            "  Building wheel for pybloom_live (setup.py) ... \u001b[?25l\u001b[?25hdone\n",
            "\u001b[2K     \u001b[90m━━━━━━━━━━━━━━━━━━━━━━━━━━━━━━━━━━━━━━━━\u001b[0m \u001b[32m164.8/164.8 kB\u001b[0m \u001b[31m3.7 MB/s\u001b[0m eta \u001b[36m0:00:00\u001b[0m\n",
            "\u001b[?25h"
          ]
        }
      ],
      "source": [
        "!pip install tensorflow_hub\n",
        "!pip install bitarray\n",
        "!pip -q install pybloom_live\n",
        "!pip -q install pympler"
      ]
    },
    {
      "cell_type": "markdown",
      "metadata": {
        "id": "ji4Kk96LjM5U"
      },
      "source": [
        "#Import\n"
      ]
    },
    {
      "cell_type": "code",
      "execution_count": 2,
      "metadata": {
        "id": "Cow0JNR3_P5a"
      },
      "outputs": [],
      "source": [
        "import tensorflow as tf\n",
        "import tensorflow_hub as hub\n",
        "import numpy as np\n",
        "import os\n",
        "from tqdm.notebook import tqdm\n",
        "from sklearn.metrics import classification_report,accuracy_score\n",
        "import pandas as pd\n",
        "from keras.preprocessing.text import Tokenizer\n",
        "from keras.preprocessing.sequence import pad_sequences\n",
        "from sklearn.model_selection import train_test_split\n",
        "from keras.layers import Input, Embedding, Activation, Flatten, Dense\n",
        "from keras.layers import Conv1D, MaxPooling1D, Dropout\n",
        "from keras.models import Model\n",
        "from copy import deepcopy\n",
        "from keras.utils import to_categorical\n",
        "import plotly.graph_objects as go\n",
        "import matplotlib.pyplot as plt\n",
        "import seaborn as sns\n",
        "from sklearn.utils import murmurhash3_32\n",
        "from bitarray import bitarray\n",
        "import math\n",
        "import random\n",
        "from sklearn.metrics import confusion_matrix\n",
        "\n",
        "os.environ['TF_CPP_MIN_LOG_LEVEL'] = '2'"
      ]
    },
    {
      "cell_type": "code",
      "execution_count": 3,
      "metadata": {
        "id": "y7k78L0TC0L0"
      },
      "outputs": [],
      "source": [
        "if not os.path.exists('data'):\n",
        "    # If data does not exist, execute the commands\n",
        "    os.system('gdown 1ZkY2fggUconL46l9eKKDIsndufrcPyGs')\n",
        "    os.system('unzip archive.zip -d data/')\n",
        "else:\n",
        "    print('data directory already exists. No action taken.')"
      ]
    },
    {
      "cell_type": "code",
      "execution_count": 4,
      "metadata": {
        "id": "PTMFhOhuDFn_"
      },
      "outputs": [],
      "source": [
        "df = pd.read_csv('data/malicious_phish.csv')"
      ]
    },
    {
      "cell_type": "code",
      "execution_count": 5,
      "metadata": {
        "colab": {
          "base_uri": "https://localhost:8080/",
          "height": 206
        },
        "id": "y-4mT4SsDGa7",
        "outputId": "dc4135ea-1c7a-4df4-e696-5ab87c4a0a66"
      },
      "outputs": [
        {
          "output_type": "execute_result",
          "data": {
            "text/plain": [
              "                                                 url        type\n",
              "0                                   br-icloud.com.br    phishing\n",
              "1                mp3raid.com/music/krizz_kaliko.html      benign\n",
              "2                    bopsecrets.org/rexroth/cr/1.htm      benign\n",
              "3  http://www.garage-pirenne.be/index.php?option=...  defacement\n",
              "4  http://adventure-nicaragua.net/index.php?optio...  defacement"
            ],
            "text/html": [
              "\n",
              "  <div id=\"df-e09144f6-5a46-4704-8e77-9deea059910e\" class=\"colab-df-container\">\n",
              "    <div>\n",
              "<style scoped>\n",
              "    .dataframe tbody tr th:only-of-type {\n",
              "        vertical-align: middle;\n",
              "    }\n",
              "\n",
              "    .dataframe tbody tr th {\n",
              "        vertical-align: top;\n",
              "    }\n",
              "\n",
              "    .dataframe thead th {\n",
              "        text-align: right;\n",
              "    }\n",
              "</style>\n",
              "<table border=\"1\" class=\"dataframe\">\n",
              "  <thead>\n",
              "    <tr style=\"text-align: right;\">\n",
              "      <th></th>\n",
              "      <th>url</th>\n",
              "      <th>type</th>\n",
              "    </tr>\n",
              "  </thead>\n",
              "  <tbody>\n",
              "    <tr>\n",
              "      <th>0</th>\n",
              "      <td>br-icloud.com.br</td>\n",
              "      <td>phishing</td>\n",
              "    </tr>\n",
              "    <tr>\n",
              "      <th>1</th>\n",
              "      <td>mp3raid.com/music/krizz_kaliko.html</td>\n",
              "      <td>benign</td>\n",
              "    </tr>\n",
              "    <tr>\n",
              "      <th>2</th>\n",
              "      <td>bopsecrets.org/rexroth/cr/1.htm</td>\n",
              "      <td>benign</td>\n",
              "    </tr>\n",
              "    <tr>\n",
              "      <th>3</th>\n",
              "      <td>http://www.garage-pirenne.be/index.php?option=...</td>\n",
              "      <td>defacement</td>\n",
              "    </tr>\n",
              "    <tr>\n",
              "      <th>4</th>\n",
              "      <td>http://adventure-nicaragua.net/index.php?optio...</td>\n",
              "      <td>defacement</td>\n",
              "    </tr>\n",
              "  </tbody>\n",
              "</table>\n",
              "</div>\n",
              "    <div class=\"colab-df-buttons\">\n",
              "\n",
              "  <div class=\"colab-df-container\">\n",
              "    <button class=\"colab-df-convert\" onclick=\"convertToInteractive('df-e09144f6-5a46-4704-8e77-9deea059910e')\"\n",
              "            title=\"Convert this dataframe to an interactive table.\"\n",
              "            style=\"display:none;\">\n",
              "\n",
              "  <svg xmlns=\"http://www.w3.org/2000/svg\" height=\"24px\" viewBox=\"0 -960 960 960\">\n",
              "    <path d=\"M120-120v-720h720v720H120Zm60-500h600v-160H180v160Zm220 220h160v-160H400v160Zm0 220h160v-160H400v160ZM180-400h160v-160H180v160Zm440 0h160v-160H620v160ZM180-180h160v-160H180v160Zm440 0h160v-160H620v160Z\"/>\n",
              "  </svg>\n",
              "    </button>\n",
              "\n",
              "  <style>\n",
              "    .colab-df-container {\n",
              "      display:flex;\n",
              "      gap: 12px;\n",
              "    }\n",
              "\n",
              "    .colab-df-convert {\n",
              "      background-color: #E8F0FE;\n",
              "      border: none;\n",
              "      border-radius: 50%;\n",
              "      cursor: pointer;\n",
              "      display: none;\n",
              "      fill: #1967D2;\n",
              "      height: 32px;\n",
              "      padding: 0 0 0 0;\n",
              "      width: 32px;\n",
              "    }\n",
              "\n",
              "    .colab-df-convert:hover {\n",
              "      background-color: #E2EBFA;\n",
              "      box-shadow: 0px 1px 2px rgba(60, 64, 67, 0.3), 0px 1px 3px 1px rgba(60, 64, 67, 0.15);\n",
              "      fill: #174EA6;\n",
              "    }\n",
              "\n",
              "    .colab-df-buttons div {\n",
              "      margin-bottom: 4px;\n",
              "    }\n",
              "\n",
              "    [theme=dark] .colab-df-convert {\n",
              "      background-color: #3B4455;\n",
              "      fill: #D2E3FC;\n",
              "    }\n",
              "\n",
              "    [theme=dark] .colab-df-convert:hover {\n",
              "      background-color: #434B5C;\n",
              "      box-shadow: 0px 1px 3px 1px rgba(0, 0, 0, 0.15);\n",
              "      filter: drop-shadow(0px 1px 2px rgba(0, 0, 0, 0.3));\n",
              "      fill: #FFFFFF;\n",
              "    }\n",
              "  </style>\n",
              "\n",
              "    <script>\n",
              "      const buttonEl =\n",
              "        document.querySelector('#df-e09144f6-5a46-4704-8e77-9deea059910e button.colab-df-convert');\n",
              "      buttonEl.style.display =\n",
              "        google.colab.kernel.accessAllowed ? 'block' : 'none';\n",
              "\n",
              "      async function convertToInteractive(key) {\n",
              "        const element = document.querySelector('#df-e09144f6-5a46-4704-8e77-9deea059910e');\n",
              "        const dataTable =\n",
              "          await google.colab.kernel.invokeFunction('convertToInteractive',\n",
              "                                                    [key], {});\n",
              "        if (!dataTable) return;\n",
              "\n",
              "        const docLinkHtml = 'Like what you see? Visit the ' +\n",
              "          '<a target=\"_blank\" href=https://colab.research.google.com/notebooks/data_table.ipynb>data table notebook</a>'\n",
              "          + ' to learn more about interactive tables.';\n",
              "        element.innerHTML = '';\n",
              "        dataTable['output_type'] = 'display_data';\n",
              "        await google.colab.output.renderOutput(dataTable, element);\n",
              "        const docLink = document.createElement('div');\n",
              "        docLink.innerHTML = docLinkHtml;\n",
              "        element.appendChild(docLink);\n",
              "      }\n",
              "    </script>\n",
              "  </div>\n",
              "\n",
              "\n",
              "<div id=\"df-03ba0c9d-0c95-45f4-a080-80b809c789c5\">\n",
              "  <button class=\"colab-df-quickchart\" onclick=\"quickchart('df-03ba0c9d-0c95-45f4-a080-80b809c789c5')\"\n",
              "            title=\"Suggest charts\"\n",
              "            style=\"display:none;\">\n",
              "\n",
              "<svg xmlns=\"http://www.w3.org/2000/svg\" height=\"24px\"viewBox=\"0 0 24 24\"\n",
              "     width=\"24px\">\n",
              "    <g>\n",
              "        <path d=\"M19 3H5c-1.1 0-2 .9-2 2v14c0 1.1.9 2 2 2h14c1.1 0 2-.9 2-2V5c0-1.1-.9-2-2-2zM9 17H7v-7h2v7zm4 0h-2V7h2v10zm4 0h-2v-4h2v4z\"/>\n",
              "    </g>\n",
              "</svg>\n",
              "  </button>\n",
              "\n",
              "<style>\n",
              "  .colab-df-quickchart {\n",
              "      --bg-color: #E8F0FE;\n",
              "      --fill-color: #1967D2;\n",
              "      --hover-bg-color: #E2EBFA;\n",
              "      --hover-fill-color: #174EA6;\n",
              "      --disabled-fill-color: #AAA;\n",
              "      --disabled-bg-color: #DDD;\n",
              "  }\n",
              "\n",
              "  [theme=dark] .colab-df-quickchart {\n",
              "      --bg-color: #3B4455;\n",
              "      --fill-color: #D2E3FC;\n",
              "      --hover-bg-color: #434B5C;\n",
              "      --hover-fill-color: #FFFFFF;\n",
              "      --disabled-bg-color: #3B4455;\n",
              "      --disabled-fill-color: #666;\n",
              "  }\n",
              "\n",
              "  .colab-df-quickchart {\n",
              "    background-color: var(--bg-color);\n",
              "    border: none;\n",
              "    border-radius: 50%;\n",
              "    cursor: pointer;\n",
              "    display: none;\n",
              "    fill: var(--fill-color);\n",
              "    height: 32px;\n",
              "    padding: 0;\n",
              "    width: 32px;\n",
              "  }\n",
              "\n",
              "  .colab-df-quickchart:hover {\n",
              "    background-color: var(--hover-bg-color);\n",
              "    box-shadow: 0 1px 2px rgba(60, 64, 67, 0.3), 0 1px 3px 1px rgba(60, 64, 67, 0.15);\n",
              "    fill: var(--button-hover-fill-color);\n",
              "  }\n",
              "\n",
              "  .colab-df-quickchart-complete:disabled,\n",
              "  .colab-df-quickchart-complete:disabled:hover {\n",
              "    background-color: var(--disabled-bg-color);\n",
              "    fill: var(--disabled-fill-color);\n",
              "    box-shadow: none;\n",
              "  }\n",
              "\n",
              "  .colab-df-spinner {\n",
              "    border: 2px solid var(--fill-color);\n",
              "    border-color: transparent;\n",
              "    border-bottom-color: var(--fill-color);\n",
              "    animation:\n",
              "      spin 1s steps(1) infinite;\n",
              "  }\n",
              "\n",
              "  @keyframes spin {\n",
              "    0% {\n",
              "      border-color: transparent;\n",
              "      border-bottom-color: var(--fill-color);\n",
              "      border-left-color: var(--fill-color);\n",
              "    }\n",
              "    20% {\n",
              "      border-color: transparent;\n",
              "      border-left-color: var(--fill-color);\n",
              "      border-top-color: var(--fill-color);\n",
              "    }\n",
              "    30% {\n",
              "      border-color: transparent;\n",
              "      border-left-color: var(--fill-color);\n",
              "      border-top-color: var(--fill-color);\n",
              "      border-right-color: var(--fill-color);\n",
              "    }\n",
              "    40% {\n",
              "      border-color: transparent;\n",
              "      border-right-color: var(--fill-color);\n",
              "      border-top-color: var(--fill-color);\n",
              "    }\n",
              "    60% {\n",
              "      border-color: transparent;\n",
              "      border-right-color: var(--fill-color);\n",
              "    }\n",
              "    80% {\n",
              "      border-color: transparent;\n",
              "      border-right-color: var(--fill-color);\n",
              "      border-bottom-color: var(--fill-color);\n",
              "    }\n",
              "    90% {\n",
              "      border-color: transparent;\n",
              "      border-bottom-color: var(--fill-color);\n",
              "    }\n",
              "  }\n",
              "</style>\n",
              "\n",
              "  <script>\n",
              "    async function quickchart(key) {\n",
              "      const quickchartButtonEl =\n",
              "        document.querySelector('#' + key + ' button');\n",
              "      quickchartButtonEl.disabled = true;  // To prevent multiple clicks.\n",
              "      quickchartButtonEl.classList.add('colab-df-spinner');\n",
              "      try {\n",
              "        const charts = await google.colab.kernel.invokeFunction(\n",
              "            'suggestCharts', [key], {});\n",
              "      } catch (error) {\n",
              "        console.error('Error during call to suggestCharts:', error);\n",
              "      }\n",
              "      quickchartButtonEl.classList.remove('colab-df-spinner');\n",
              "      quickchartButtonEl.classList.add('colab-df-quickchart-complete');\n",
              "    }\n",
              "    (() => {\n",
              "      let quickchartButtonEl =\n",
              "        document.querySelector('#df-03ba0c9d-0c95-45f4-a080-80b809c789c5 button');\n",
              "      quickchartButtonEl.style.display =\n",
              "        google.colab.kernel.accessAllowed ? 'block' : 'none';\n",
              "    })();\n",
              "  </script>\n",
              "</div>\n",
              "\n",
              "    </div>\n",
              "  </div>\n"
            ]
          },
          "metadata": {},
          "execution_count": 5
        }
      ],
      "source": [
        "df.head()"
      ]
    },
    {
      "cell_type": "code",
      "execution_count": 6,
      "metadata": {
        "colab": {
          "base_uri": "https://localhost:8080/"
        },
        "id": "xSoSRj8oDI_3",
        "outputId": "0e72a275-9895-431b-b6ad-2679b9590ddb"
      },
      "outputs": [
        {
          "output_type": "execute_result",
          "data": {
            "text/plain": [
              "benign        428103\n",
              "defacement     96457\n",
              "phishing       94111\n",
              "malware        32520\n",
              "Name: type, dtype: int64"
            ]
          },
          "metadata": {},
          "execution_count": 6
        }
      ],
      "source": [
        "count = df.type.value_counts()\n",
        "count"
      ]
    },
    {
      "cell_type": "code",
      "execution_count": 7,
      "metadata": {
        "colab": {
          "base_uri": "https://localhost:8080/",
          "height": 449
        },
        "id": "vVW1AwWMDJrm",
        "outputId": "ffa1a8f4-f8f5-4f1e-e782-64fdc20e78ad"
      },
      "outputs": [
        {
          "output_type": "display_data",
          "data": {
            "text/plain": [
              "<Figure size 640x480 with 1 Axes>"
            ],
            "image/png": "[encoded data removed]"
          },
          "metadata": {}
        }
      ],
      "source": [
        "sns.barplot(x=count.index, y=count)\n",
        "plt.xlabel('Types')\n",
        "plt.ylabel('Count');"
      ]
    },
    {
      "cell_type": "code",
      "execution_count": 8,
      "metadata": {
        "id": "KU8ETFzfDKp9",
        "colab": {
          "base_uri": "https://localhost:8080/",
          "height": 206
        },
        "outputId": "947d76cb-9f83-48c9-a2ce-d07eee25ecf1"
      },
      "outputs": [
        {
          "output_type": "execute_result",
          "data": {
            "text/plain": [
              "                                                 url        type  bad\n",
              "0                                   br-icloud.com.br    phishing    1\n",
              "1                mp3raid.com/music/krizz_kaliko.html      benign    0\n",
              "2                    bopsecrets.org/rexroth/cr/1.htm      benign    0\n",
              "3  http://www.garage-pirenne.be/index.php?option=...  defacement    1\n",
              "4  http://adventure-nicaragua.net/index.php?optio...  defacement    1"
            ],
            "text/html": [
              "\n",
              "  <div id=\"df-1c9b42d8-b555-4168-9321-7e9b622ddbe4\" class=\"colab-df-container\">\n",
              "    <div>\n",
              "<style scoped>\n",
              "    .dataframe tbody tr th:only-of-type {\n",
              "        vertical-align: middle;\n",
              "    }\n",
              "\n",
              "    .dataframe tbody tr th {\n",
              "        vertical-align: top;\n",
              "    }\n",
              "\n",
              "    .dataframe thead th {\n",
              "        text-align: right;\n",
              "    }\n",
              "</style>\n",
              "<table border=\"1\" class=\"dataframe\">\n",
              "  <thead>\n",
              "    <tr style=\"text-align: right;\">\n",
              "      <th></th>\n",
              "      <th>url</th>\n",
              "      <th>type</th>\n",
              "      <th>bad</th>\n",
              "    </tr>\n",
              "  </thead>\n",
              "  <tbody>\n",
              "    <tr>\n",
              "      <th>0</th>\n",
              "      <td>br-icloud.com.br</td>\n",
              "      <td>phishing</td>\n",
              "      <td>1</td>\n",
              "    </tr>\n",
              "    <tr>\n",
              "      <th>1</th>\n",
              "      <td>mp3raid.com/music/krizz_kaliko.html</td>\n",
              "      <td>benign</td>\n",
              "      <td>0</td>\n",
              "    </tr>\n",
              "    <tr>\n",
              "      <th>2</th>\n",
              "      <td>bopsecrets.org/rexroth/cr/1.htm</td>\n",
              "      <td>benign</td>\n",
              "      <td>0</td>\n",
              "    </tr>\n",
              "    <tr>\n",
              "      <th>3</th>\n",
              "      <td>http://www.garage-pirenne.be/index.php?option=...</td>\n",
              "      <td>defacement</td>\n",
              "      <td>1</td>\n",
              "    </tr>\n",
              "    <tr>\n",
              "      <th>4</th>\n",
              "      <td>http://adventure-nicaragua.net/index.php?optio...</td>\n",
              "      <td>defacement</td>\n",
              "      <td>1</td>\n",
              "    </tr>\n",
              "  </tbody>\n",
              "</table>\n",
              "</div>\n",
              "    <div class=\"colab-df-buttons\">\n",
              "\n",
              "  <div class=\"colab-df-container\">\n",
              "    <button class=\"colab-df-convert\" onclick=\"convertToInteractive('df-1c9b42d8-b555-4168-9321-7e9b622ddbe4')\"\n",
              "            title=\"Convert this dataframe to an interactive table.\"\n",
              "            style=\"display:none;\">\n",
              "\n",
              "  <svg xmlns=\"http://www.w3.org/2000/svg\" height=\"24px\" viewBox=\"0 -960 960 960\">\n",
              "    <path d=\"M120-120v-720h720v720H120Zm60-500h600v-160H180v160Zm220 220h160v-160H400v160Zm0 220h160v-160H400v160ZM180-400h160v-160H180v160Zm440 0h160v-160H620v160ZM180-180h160v-160H180v160Zm440 0h160v-160H620v160Z\"/>\n",
              "  </svg>\n",
              "    </button>\n",
              "\n",
              "  <style>\n",
              "    .colab-df-container {\n",
              "      display:flex;\n",
              "      gap: 12px;\n",
              "    }\n",
              "\n",
              "    .colab-df-convert {\n",
              "      background-color: #E8F0FE;\n",
              "      border: none;\n",
              "      border-radius: 50%;\n",
              "      cursor: pointer;\n",
              "      display: none;\n",
              "      fill: #1967D2;\n",
              "      height: 32px;\n",
              "      padding: 0 0 0 0;\n",
              "      width: 32px;\n",
              "    }\n",
              "\n",
              "    .colab-df-convert:hover {\n",
              "      background-color: #E2EBFA;\n",
              "      box-shadow: 0px 1px 2px rgba(60, 64, 67, 0.3), 0px 1px 3px 1px rgba(60, 64, 67, 0.15);\n",
              "      fill: #174EA6;\n",
              "    }\n",
              "\n",
              "    .colab-df-buttons div {\n",
              "      margin-bottom: 4px;\n",
              "    }\n",
              "\n",
              "    [theme=dark] .colab-df-convert {\n",
              "      background-color: #3B4455;\n",
              "      fill: #D2E3FC;\n",
              "    }\n",
              "\n",
              "    [theme=dark] .colab-df-convert:hover {\n",
              "      background-color: #434B5C;\n",
              "      box-shadow: 0px 1px 3px 1px rgba(0, 0, 0, 0.15);\n",
              "      filter: drop-shadow(0px 1px 2px rgba(0, 0, 0, 0.3));\n",
              "      fill: #FFFFFF;\n",
              "    }\n",
              "  </style>\n",
              "\n",
              "    <script>\n",
              "      const buttonEl =\n",
              "        document.querySelector('#df-1c9b42d8-b555-4168-9321-7e9b622ddbe4 button.colab-df-convert');\n",
              "      buttonEl.style.display =\n",
              "        google.colab.kernel.accessAllowed ? 'block' : 'none';\n",
              "\n",
              "      async function convertToInteractive(key) {\n",
              "        const element = document.querySelector('#df-1c9b42d8-b555-4168-9321-7e9b622ddbe4');\n",
              "        const dataTable =\n",
              "          await google.colab.kernel.invokeFunction('convertToInteractive',\n",
              "                                                    [key], {});\n",
              "        if (!dataTable) return;\n",
              "\n",
              "        const docLinkHtml = 'Like what you see? Visit the ' +\n",
              "          '<a target=\"_blank\" href=https://colab.research.google.com/notebooks/data_table.ipynb>data table notebook</a>'\n",
              "          + ' to learn more about interactive tables.';\n",
              "        element.innerHTML = '';\n",
              "        dataTable['output_type'] = 'display_data';\n",
              "        await google.colab.output.renderOutput(dataTable, element);\n",
              "        const docLink = document.createElement('div');\n",
              "        docLink.innerHTML = docLinkHtml;\n",
              "        element.appendChild(docLink);\n",
              "      }\n",
              "    </script>\n",
              "  </div>\n",
              "\n",
              "\n",
              "<div id=\"df-87142f06-a940-49af-a104-0cf99b35b8ed\">\n",
              "  <button class=\"colab-df-quickchart\" onclick=\"quickchart('df-87142f06-a940-49af-a104-0cf99b35b8ed')\"\n",
              "            title=\"Suggest charts\"\n",
              "            style=\"display:none;\">\n",
              "\n",
              "<svg xmlns=\"http://www.w3.org/2000/svg\" height=\"24px\"viewBox=\"0 0 24 24\"\n",
              "     width=\"24px\">\n",
              "    <g>\n",
              "        <path d=\"M19 3H5c-1.1 0-2 .9-2 2v14c0 1.1.9 2 2 2h14c1.1 0 2-.9 2-2V5c0-1.1-.9-2-2-2zM9 17H7v-7h2v7zm4 0h-2V7h2v10zm4 0h-2v-4h2v4z\"/>\n",
              "    </g>\n",
              "</svg>\n",
              "  </button>\n",
              "\n",
              "<style>\n",
              "  .colab-df-quickchart {\n",
              "      --bg-color: #E8F0FE;\n",
              "      --fill-color: #1967D2;\n",
              "      --hover-bg-color: #E2EBFA;\n",
              "      --hover-fill-color: #174EA6;\n",
              "      --disabled-fill-color: #AAA;\n",
              "      --disabled-bg-color: #DDD;\n",
              "  }\n",
              "\n",
              "  [theme=dark] .colab-df-quickchart {\n",
              "      --bg-color: #3B4455;\n",
              "      --fill-color: #D2E3FC;\n",
              "      --hover-bg-color: #434B5C;\n",
              "      --hover-fill-color: #FFFFFF;\n",
              "      --disabled-bg-color: #3B4455;\n",
              "      --disabled-fill-color: #666;\n",
              "  }\n",
              "\n",
              "  .colab-df-quickchart {\n",
              "    background-color: var(--bg-color);\n",
              "    border: none;\n",
              "    border-radius: 50%;\n",
              "    cursor: pointer;\n",
              "    display: none;\n",
              "    fill: var(--fill-color);\n",
              "    height: 32px;\n",
              "    padding: 0;\n",
              "    width: 32px;\n",
              "  }\n",
              "\n",
              "  .colab-df-quickchart:hover {\n",
              "    background-color: var(--hover-bg-color);\n",
              "    box-shadow: 0 1px 2px rgba(60, 64, 67, 0.3), 0 1px 3px 1px rgba(60, 64, 67, 0.15);\n",
              "    fill: var(--button-hover-fill-color);\n",
              "  }\n",
              "\n",
              "  .colab-df-quickchart-complete:disabled,\n",
              "  .colab-df-quickchart-complete:disabled:hover {\n",
              "    background-color: var(--disabled-bg-color);\n",
              "    fill: var(--disabled-fill-color);\n",
              "    box-shadow: none;\n",
              "  }\n",
              "\n",
              "  .colab-df-spinner {\n",
              "    border: 2px solid var(--fill-color);\n",
              "    border-color: transparent;\n",
              "    border-bottom-color: var(--fill-color);\n",
              "    animation:\n",
              "      spin 1s steps(1) infinite;\n",
              "  }\n",
              "\n",
              "  @keyframes spin {\n",
              "    0% {\n",
              "      border-color: transparent;\n",
              "      border-bottom-color: var(--fill-color);\n",
              "      border-left-color: var(--fill-color);\n",
              "    }\n",
              "    20% {\n",
              "      border-color: transparent;\n",
              "      border-left-color: var(--fill-color);\n",
              "      border-top-color: var(--fill-color);\n",
              "    }\n",
              "    30% {\n",
              "      border-color: transparent;\n",
              "      border-left-color: var(--fill-color);\n",
              "      border-top-color: var(--fill-color);\n",
              "      border-right-color: var(--fill-color);\n",
              "    }\n",
              "    40% {\n",
              "      border-color: transparent;\n",
              "      border-right-color: var(--fill-color);\n",
              "      border-top-color: var(--fill-color);\n",
              "    }\n",
              "    60% {\n",
              "      border-color: transparent;\n",
              "      border-right-color: var(--fill-color);\n",
              "    }\n",
              "    80% {\n",
              "      border-color: transparent;\n",
              "      border-right-color: var(--fill-color);\n",
              "      border-bottom-color: var(--fill-color);\n",
              "    }\n",
              "    90% {\n",
              "      border-color: transparent;\n",
              "      border-bottom-color: var(--fill-color);\n",
              "    }\n",
              "  }\n",
              "</style>\n",
              "\n",
              "  <script>\n",
              "    async function quickchart(key) {\n",
              "      const quickchartButtonEl =\n",
              "        document.querySelector('#' + key + ' button');\n",
              "      quickchartButtonEl.disabled = true;  // To prevent multiple clicks.\n",
              "      quickchartButtonEl.classList.add('colab-df-spinner');\n",
              "      try {\n",
              "        const charts = await google.colab.kernel.invokeFunction(\n",
              "            'suggestCharts', [key], {});\n",
              "      } catch (error) {\n",
              "        console.error('Error during call to suggestCharts:', error);\n",
              "      }\n",
              "      quickchartButtonEl.classList.remove('colab-df-spinner');\n",
              "      quickchartButtonEl.classList.add('colab-df-quickchart-complete');\n",
              "    }\n",
              "    (() => {\n",
              "      let quickchartButtonEl =\n",
              "        document.querySelector('#df-87142f06-a940-49af-a104-0cf99b35b8ed button');\n",
              "      quickchartButtonEl.style.display =\n",
              "        google.colab.kernel.accessAllowed ? 'block' : 'none';\n",
              "    })();\n",
              "  </script>\n",
              "</div>\n",
              "\n",
              "    </div>\n",
              "  </div>\n"
            ]
          },
          "metadata": {},
          "execution_count": 8
        }
      ],
      "source": [
        "df['bad'] = df['type'].apply(lambda x: 0 if x == 'benign' else 1)\n",
        "df.head()"
      ]
    },
    {
      "cell_type": "code",
      "source": [
        "count = df.bad.value_counts()\n",
        "count"
      ],
      "metadata": {
        "colab": {
          "base_uri": "https://localhost:8080/"
        },
        "id": "g_jDic1ZKsZD",
        "outputId": "6d7324db-d107-4703-c12b-5572c94a28e2"
      },
      "execution_count": 9,
      "outputs": [
        {
          "output_type": "execute_result",
          "data": {
            "text/plain": [
              "0    428103\n",
              "1    223088\n",
              "Name: bad, dtype: int64"
            ]
          },
          "metadata": {},
          "execution_count": 9
        }
      ]
    },
    {
      "cell_type": "code",
      "source": [
        "sns.barplot(x=count.index, y=count)\n",
        "plt.xlabel('Good/Bad (0/1)')\n",
        "plt.ylabel('Count');"
      ],
      "metadata": {
        "colab": {
          "base_uri": "https://localhost:8080/",
          "height": 449
        },
        "id": "E1i5W0m9KoXU",
        "outputId": "c621b421-cbaa-42f6-e755-27fbadf29f7d"
      },
      "execution_count": 10,
      "outputs": [
        {
          "output_type": "display_data",
          "data": {
            "text/plain": [
              "<Figure size 640x480 with 1 Axes>"
            ],
            "image/png": "[encoded data removed]"
          },
          "metadata": {}
        }
      ]
    },
    {
      "cell_type": "markdown",
      "source": [
        "# Split data set"
      ],
      "metadata": {
        "id": "8dGaRKUngvg8"
      }
    },
    {
      "cell_type": "code",
      "execution_count": 11,
      "metadata": {
        "id": "Cz_Z8beAJfQt"
      },
      "outputs": [],
      "source": [
        "X_train, X_test, y_train, y_test = train_test_split(\n",
        "    df['url'], df['bad'], test_size=0.2, random_state=42\n",
        ")"
      ]
    },
    {
      "cell_type": "markdown",
      "metadata": {
        "id": "Jn91V5P5mUl3"
      },
      "source": [
        "# Build and train model\n",
        "\n"
      ]
    },
    {
      "cell_type": "code",
      "execution_count": 12,
      "metadata": {
        "colab": {
          "base_uri": "https://localhost:8080/"
        },
        "id": "qt5mMxZjddVQ",
        "outputId": "62894703-a03f-4f11-a214-a7000d08e7c9"
      },
      "outputs": [
        {
          "output_type": "stream",
          "name": "stdout",
          "text": [
            "Model: \"model\"\n",
            "_________________________________________________________________\n",
            " Layer (type)                Output Shape              Param #   \n",
            "=================================================================\n",
            " input (InputLayer)          [(None, 1014)]            0         \n",
            "                                                                 \n",
            " embedding (Embedding)       (None, 1014, 69)          4830      \n",
            "                                                                 \n",
            " conv1d (Conv1D)             (None, 1011, 64)          17728     \n",
            "                                                                 \n",
            " max_pooling1d (MaxPooling1  (None, 505, 64)           0         \n",
            " D)                                                              \n",
            "                                                                 \n",
            " flatten (Flatten)           (None, 32320)             0         \n",
            "                                                                 \n",
            " dense (Dense)               (None, 64)                2068544   \n",
            "                                                                 \n",
            " dropout (Dropout)           (None, 64)                0         \n",
            "                                                                 \n",
            " dense_1 (Dense)             (None, 4)                 260       \n",
            "                                                                 \n",
            " dropout_1 (Dropout)         (None, 4)                 0         \n",
            "                                                                 \n",
            " dense_2 (Dense)             (None, 1)                 5         \n",
            "                                                                 \n",
            "=================================================================\n",
            "Total params: 2091367 (7.98 MB)\n",
            "Trainable params: 2091367 (7.98 MB)\n",
            "Non-trainable params: 0 (0.00 Byte)\n",
            "_________________________________________________________________\n",
            "Epoch 1/10\n",
            "2035/2035 - 65s - loss: 0.1811 - accuracy: 0.9220 - 65s/epoch - 32ms/step\n",
            "Epoch 2/10\n",
            "2035/2035 - 52s - loss: 0.1281 - accuracy: 0.9447 - 52s/epoch - 25ms/step\n",
            "Epoch 3/10\n",
            "2035/2035 - 53s - loss: 0.0820 - accuracy: 0.9751 - 53s/epoch - 26ms/step\n",
            "Epoch 4/10\n",
            "2035/2035 - 52s - loss: 0.0667 - accuracy: 0.9797 - 52s/epoch - 26ms/step\n",
            "Epoch 5/10\n",
            "2035/2035 - 52s - loss: 0.0609 - accuracy: 0.9811 - 52s/epoch - 25ms/step\n",
            "Epoch 6/10\n",
            "2035/2035 - 52s - loss: 0.0566 - accuracy: 0.9822 - 52s/epoch - 26ms/step\n",
            "Epoch 7/10\n",
            "2035/2035 - 52s - loss: 0.0540 - accuracy: 0.9831 - 52s/epoch - 25ms/step\n",
            "Epoch 8/10\n",
            "2035/2035 - 52s - loss: 0.0512 - accuracy: 0.9839 - 52s/epoch - 25ms/step\n",
            "Epoch 9/10\n",
            "2035/2035 - 52s - loss: 0.0494 - accuracy: 0.9846 - 52s/epoch - 26ms/step\n",
            "Epoch 10/10\n",
            "2035/2035 - 52s - loss: 0.0468 - accuracy: 0.9853 - 52s/epoch - 25ms/step\n"
          ]
        },
        {
          "output_type": "execute_result",
          "data": {
            "text/plain": [
              "<keras.src.callbacks.History at 0x7ec61c6fafb0>"
            ]
          },
          "metadata": {},
          "execution_count": 12
        }
      ],
      "source": [
        "# Tokenizer initialization and configuration\n",
        "input_size = 1014\n",
        "alphabet = \"abcdefghijklmnopqrstuvwxyz0123456789,;.!?:'\\\"/\\\\|_@#$%^&*~`+-=<>()[]{}\"\n",
        "tk = Tokenizer(num_words=None, char_level=True, oov_token='UNK')\n",
        "tk.fit_on_texts(alphabet)\n",
        "\n",
        "# Update word_index with one-hot encoding indices\n",
        "tk.word_index = {char: i + 1 for i, char in enumerate(alphabet)}\n",
        "tk.word_index[tk.oov_token] = len(tk.word_index) + 1\n",
        "\n",
        "# Convert texts to sequences and pad them\n",
        "train_sequences = tk.texts_to_sequences([s.lower() for s in X_train])\n",
        "train_data = pad_sequences(train_sequences, maxlen=input_size, padding='post')\n",
        "train_data = np.array(train_data, dtype='float32')\n",
        "\n",
        "# Convert labels to numpy array\n",
        "y_train = np.array(y_train)\n",
        "\n",
        "# Create one-hot encoded embedding weights\n",
        "vocab_size = len(tk.word_index)\n",
        "embedding_weights = np.zeros((vocab_size + 1, 69))\n",
        "for char, i in tk.word_index.items():\n",
        "    embedding_weights[i, :] = np.eye(vocab_size, dtype='float32')[i-1]\n",
        "\n",
        "# Model building\n",
        "embedding_layer = Embedding(input_dim=vocab_size + 1, output_dim=69, input_length=input_size, weights=[embedding_weights])\n",
        "inputs = Input(shape=(input_size,), name='input', dtype='int64')\n",
        "x = embedding_layer(inputs)\n",
        "x = Conv1D(64, 4, activation='relu')(x)\n",
        "x = MaxPooling1D(pool_size=2)(x)\n",
        "x = Flatten()(x)\n",
        "x = Dense(64, activation='relu')(x)\n",
        "x = Dropout(0.1)(x)\n",
        "x = Dense(4, activation='relu')(x)\n",
        "x = Dropout(0.1)(x)\n",
        "predictions = Dense(1, activation='sigmoid')(x)\n",
        "\n",
        "# Compile and train the model\n",
        "model = Model(inputs=inputs, outputs=predictions)\n",
        "model.compile(optimizer='adam', loss='binary_crossentropy', metrics=['accuracy'])\n",
        "model.summary()\n",
        "model.fit(train_data, y_train, batch_size=256, epochs=10, verbose=2)"
      ]
    },
    {
      "cell_type": "code",
      "source": [
        "def evaluate_model():\n",
        "  test_sequences = tk.texts_to_sequences([s.lower() for s in X_test])\n",
        "  test_data = pad_sequences(test_sequences, maxlen=1014, padding='post')\n",
        "  test_data = np.array(test_data, dtype='float32')\n",
        "  y_pred = model.predict(test_data)\n",
        "\n",
        "  # Convert probabilities to binary predictions\n",
        "  y_pred_binary = (y_pred > 0.5).astype(int)\n",
        "\n",
        "  # Now we calculate the confusion matrix\n",
        "  cm = confusion_matrix(y_test, y_pred_binary)\n",
        "\n",
        "  # To get precision, recall, and F1-score, you can use sklearn's classification report\n",
        "  from sklearn.metrics import classification_report\n",
        "  print(classification_report(y_test, y_pred_binary, target_names=['Benign', 'Malicious']))\n",
        "  plt.figure(figsize=(8, 6))\n",
        "  sns.heatmap(cm, annot=True, fmt='d', cmap='Blues', xticklabels=['Benign', 'Malicious'], yticklabels=['Benign', 'Malicious'])\n",
        "  plt.title('Confusion Matrix')\n",
        "  plt.ylabel('True Label')\n",
        "  plt.xlabel('Predicted Label')\n",
        "  plt.show()\n",
        "\n",
        "\n",
        "evaluate_model()"
      ],
      "metadata": {
        "id": "q6Y8XFrJONL3",
        "colab": {
          "base_uri": "https://localhost:8080/",
          "height": 738
        },
        "outputId": "072c1375-995e-4e58-8099-3dfb01983433"
      },
      "execution_count": 60,
      "outputs": [
        {
          "output_type": "stream",
          "name": "stdout",
          "text": [
            "4070/4070 [==============================] - 7s 2ms/step\n",
            "              precision    recall  f1-score   support\n",
            "\n",
            "      Benign       0.99      0.99      0.99     85778\n",
            "   Malicious       0.98      0.97      0.98     44461\n",
            "\n",
            "    accuracy                           0.98    130239\n",
            "   macro avg       0.98      0.98      0.98    130239\n",
            "weighted avg       0.98      0.98      0.98    130239\n",
            "\n"
          ]
        },
        {
          "output_type": "display_data",
          "data": {
            "text/plain": [
              "<Figure size 800x600 with 2 Axes>"
            ],
            "image/png": "[encoded data removed]"
          },
          "metadata": {}
        }
      ]
    },
    {
      "cell_type": "markdown",
      "metadata": {
        "id": "mtwSvNzSmlIp"
      },
      "source": [
        "# Test model"
      ]
    },
    {
      "cell_type": "code",
      "execution_count": 14,
      "metadata": {
        "id": "cRbF2RDyd4Cs"
      },
      "outputs": [],
      "source": [
        "def test_model(test_texts):\n",
        "  test_texts = [s.lower() for s in test_texts]\n",
        "  test_texts = tk.texts_to_sequences(test_texts)\n",
        "  test_data = pad_sequences(test_texts, maxlen=1014, padding='post')\n",
        "  test_data = np.array(test_data, dtype='float32')\n",
        "  y =  model.predict(test_data)\n",
        "  res =[]\n",
        "  for f in y:\n",
        "      res.append(f[0])\n",
        "  return res"
      ]
    },
    {
      "cell_type": "markdown",
      "metadata": {
        "id": "-JLEy7CIm09r"
      },
      "source": [
        "# Testing bloom filter functions\n",
        "\n",
        "\n",
        "\n"
      ]
    },
    {
      "cell_type": "code",
      "execution_count": 33,
      "metadata": {
        "id": "31naueytnFxN"
      },
      "outputs": [],
      "source": [
        "def test_learned_bloom_filter(bloom, test_urls, tau, predictions):\n",
        "    labels = test_urls['bad'].to_numpy()\n",
        "    urls = test_urls['url'].to_numpy()\n",
        "    false_positives = 0\n",
        "    false_negatives = 0\n",
        "    query_times = []\n",
        "    for i in range(len(predictions)):\n",
        "        start_time = time.time()\n",
        "        bloom_filter_contains_url = bloom.__contains__(urls[i])\n",
        "        query_time = time.time() - start_time\n",
        "        query_times.append(query_time)\n",
        "        if predictions[i] < tau and labels[i] == 1:\n",
        "            false_negatives += 1\n",
        "\n",
        "        if predictions[i] >= tau:\n",
        "            if labels[i] == 0 and bloom_filter_contains_url:\n",
        "                false_positives += 1\n",
        "\n",
        "        if predictions[i] < tau:\n",
        "            url_added = urls[i] in added_to_bloom_filters\n",
        "            if not bloom_filter_contains_url and url_added:\n",
        "                false_negatives += 1\n",
        "\n",
        "    # Calculate the false positive rate\n",
        "    fpr = false_positives / len(urls)\n",
        "    fnr = false_negatives / len(urls)\n",
        "    # Calculate the average query time\n",
        "    avg_query_time = sum(query_times) / len(query_times)\n",
        "\n",
        "    return fpr, fnr, avg_query_time\n"
      ]
    },
    {
      "cell_type": "code",
      "source": [
        "def test_post_learned_bloom_filter(bloom, test_urls, tau, predictions):\n",
        "    labels = test_urls['bad'].to_numpy()\n",
        "    urls = test_urls['url'].to_numpy()\n",
        "    false_positives = 0\n",
        "    false_negatives = 0\n",
        "    query_times = []\n",
        "    for i in range(len(predictions)):\n",
        "      start_time = time.time()\n",
        "      bloom_filter_contains_url = bloom.__contains__(urls[i])\n",
        "      query_time = time.time() - start_time\n",
        "      query_times.append(query_time)\n",
        "      url_added = urls[i] in added_to_bloom_filters\n",
        "      if bloom_filter_contains_url and predictions[i] < tau and labels[i] == 0:\n",
        "            false_positives += 1\n",
        "\n",
        "      if predictions[i] < tau and labels[i] == 1:\n",
        "          false_negatives += 1\n",
        "\n",
        "    # Calculate the false positive rate\n",
        "    fpr = false_positives / len(test_urls)\n",
        "    fnr = false_negatives / len(test_urls)\n",
        "    # Calculate the average query time\n",
        "    avg_query_time = sum(query_times) / len(query_times)\n",
        "\n",
        "    return fpr, fnr, avg_query_time"
      ],
      "metadata": {
        "id": "yimZtAhUf8cG"
      },
      "execution_count": 34,
      "outputs": []
    },
    {
      "cell_type": "code",
      "source": [
        "def test_normal_bloom_filter(bloom, test_urls):\n",
        "  false_positives = 0\n",
        "  false_negatives = 0\n",
        "  query_times = []\n",
        "  urls = test_urls['url'].to_numpy()\n",
        "  labels = test_urls['bad'].to_numpy()\n",
        "  for i in range(len(urls)):\n",
        "      start_time = time.time()\n",
        "      bloom_filter_contains_url = bloom.__contains__(urls[i])\n",
        "      if bloom_filter_contains_url and urls[i] not in added_to_bloom_filters:\n",
        "        false_positives += 1\n",
        "      if not bloom_filter_contains_url and labels[i] == 1:\n",
        "        false_negatives += 1\n",
        "      query_time = time.time() - start_time\n",
        "      query_times.append(query_time)\n",
        "\n",
        "\n",
        "  # Calculate the false positive rate\n",
        "  fpr = false_positives / len(urls)\n",
        "  fnr = false_negatives / len(urls)\n",
        "  # Calculate the average query time\n",
        "  avg_query_time = sum(query_times) / len(query_times)\n",
        "  return fpr, fnr, query_time"
      ],
      "metadata": {
        "id": "FxMOQzeOvoUY"
      },
      "execution_count": 35,
      "outputs": []
    },
    {
      "cell_type": "markdown",
      "metadata": {
        "id": "SgBeNofvoHab"
      },
      "source": [
        "# Compare different learned bloom filter variances (Variant 1 & 2) vs normal bloom filter"
      ]
    },
    {
      "cell_type": "code",
      "execution_count": 43,
      "metadata": {
        "id": "sVPk0A0cUPhR",
        "colab": {
          "base_uri": "https://localhost:8080/"
        },
        "outputId": "160d648c-154c-424f-fb49-13584e988163"
      },
      "outputs": [
        {
          "output_type": "stream",
          "name": "stdout",
          "text": [
            "2035/2035 [==============================] - 4s 2ms/step\n"
          ]
        }
      ],
      "source": [
        "import time\n",
        "from pympler import asizeof\n",
        "from pybloom_live import BloomFilter\n",
        "\n",
        "random.seed(42)\n",
        "\n",
        "tau = 0.9\n",
        "\n",
        "malicious_urls_to_add =  df[df['bad'] == 1].sample(frac=0.5)\n",
        "\n",
        "added_to_bloom_filters = set(malicious_urls_to_add['url'])\n",
        "test_urls = df.sample(frac=0.1)\n",
        "\n",
        "normal_bloom = BloomFilter(capacity=len(malicious_urls_to_add), error_rate=u)\n",
        "learned_bloom = BloomFilter(capacity=len(malicious_urls_to_add), error_rate=0.001)\n",
        "post_learned_bloom = BloomFilter(capacity=len(malicious_urls_to_add), error_rate=0.001)\n",
        "\n",
        "for data in malicious_urls_to_add['url']:\n",
        "  normal_bloom.add(data)\n",
        "  learned_bloom.add(data)\n",
        "  post_learned_bloom.add(data)\n",
        "\n",
        "fpr_normal_bloom, fnr_normal_bloom, time_normal_bloom = test_normal_bloom_filter(normal_bloom, test_urls)\n",
        "predictions = test_model(test_urls['url'].to_numpy())\n",
        "\n",
        "fpr_learned_bloom, fnr_learned_bloom, time_learned_bloom = test_learned_bloom_filter(learned_bloom, test_urls, tau, predictions)\n",
        "fpr_post_learned_bloom, fnr_post_learned_bloom, time_post_learned_bloom = test_post_learned_bloom_filter(post_learned_bloom, test_urls, tau, predictions)\n",
        "\n",
        "ml_model_size = asizeof.asizeof(model)\n",
        "normal_bloom_size = asizeof.asizeof(normal_bloom)\n",
        "learned_bloom_size = asizeof.asizeof(learned_bloom)\n",
        "post_learned_bloom_size = asizeof.asizeof(post_learned_bloom)"
      ]
    },
    {
      "cell_type": "code",
      "source": [
        "fp_df = pd.DataFrame({\n",
        "    \"FP Rate (Normal BF)\": [fpr_normal_bloom],\n",
        "    \"FP Rate (ML + BF)\": [fpr_learned_bloom],\n",
        "    \"FP Rate (BF + ML)\": [fpr_post_learned_bloom],\n",
        "}, index=[\"\"])\n",
        "\n",
        "fn_df = pd.DataFrame({\n",
        "    \"Missed Rate (Normal BF)\": [fnr_normal_bloom],\n",
        "    \"Missed Rate (ML + BF)\": [fnr_learned_bloom],\n",
        "    \"Missed Rate (BF + ML)\": [fnr_post_learned_bloom],\n",
        "}, index=[\"\"])\n",
        "\n",
        "overall_metrics_df = pd.DataFrame({\n",
        "    \"Normal BF\": [time_normal_bloom, normal_bloom_size / 1024],\n",
        "    \"ML + BF\": [time_learned_bloom, (learned_bloom_size + ml_model_size) / 1024],\n",
        "    \"BF + ML\": [time_post_learned_bloom, (normal_bloom_size + ml_model_size) / 1024],\n",
        "}, index=[\"Average Query Time (seconds)\", \"Memory Footprint (kB)\"])\n",
        "\n",
        "print(\"Comparison of False Positive rates\")\n",
        "print(fp_df)\n",
        "\n",
        "\n",
        "print(\"\\nComparison of Missed Rates\")\n",
        "print(fn_df)\n",
        "\n",
        "print(\"\\nOverall Performance Metrics:\")\n",
        "print(overall_metrics_df)"
      ],
      "metadata": {
        "id": "booSs20_Ac4y",
        "colab": {
          "base_uri": "https://localhost:8080/"
        },
        "outputId": "7b3ca1bc-85b7-4c57-cf01-e70e7ca24b12"
      },
      "execution_count": 61,
      "outputs": [
        {
          "output_type": "stream",
          "name": "stdout",
          "text": [
            "Comparison of False Positive rates\n",
            "  FP Rate (Normal BF)  FP Rate (ML + BF)  FP Rate (BF + ML)\n",
            "             0.000353                0.0           0.000307\n",
            "\n",
            "Comparison of Missed Rates\n",
            "  Missed Rate (Normal BF)  Missed Rate (ML + BF)  Missed Rate (BF + ML)\n",
            "                 0.162671               0.012347               0.012347\n",
            "\n",
            "Overall Performance Metrics:\n",
            "                               Normal BF     ML + BF     BF + ML\n",
            "Average Query Time (seconds)    0.000003    0.000004    0.000004\n",
            "Memory Footprint (kB)         216.406250  611.148438  611.148438\n"
          ]
        }
      ]
    },
    {
      "cell_type": "code",
      "source": [
        "error_rates = [0.0001*i for i in range(1, 6)]\n",
        "fpr_normal_bloom_results = []\n",
        "fpr_learned_bloom_results = []\n",
        "fpr_post_learned_bloom_results = []\n",
        "\n",
        "fnr_learned_bloom_results = []\n",
        "fnr_post_learned_bloom_results = []\n",
        "\n",
        "time_normal_bloom_results = []\n",
        "time_learned_bloom_results = []\n",
        "time_post_learned_bloom_results = []\n",
        "\n",
        "memory_normal_bloom_results = []\n",
        "memory_learned_bloom_results = []\n",
        "memory_post_learned_bloom_results = []\n",
        "\n",
        "for er in tqdm(range(len(error_rates))):\n",
        "\n",
        "  normal_bloom = BloomFilter(capacity=len(malicious_urls_to_add), error_rate=error_rates[er])\n",
        "  learned_bloom = BloomFilter(capacity=len(malicious_urls_to_add), error_rate=error_rates[er])\n",
        "  post_learned_bloom = BloomFilter(capacity=len(malicious_urls_to_add), error_rate=error_rates[er])\n",
        "\n",
        "  for data in malicious_urls_to_add['url']:\n",
        "    normal_bloom.add(data)\n",
        "    learned_bloom.add(data)\n",
        "    post_learned_bloom.add(data)\n",
        "\n",
        "  fpr_normal_bloom, fnr_normal_bloom, time_normal_bloom = test_normal_bloom_filter(normal_bloom, test_urls)\n",
        "  predictions = test_model(test_urls['url'].to_numpy())\n",
        "\n",
        "  fpr_learned_bloom, fnr_learned_bloom, time_learned_bloom = test_learned_bloom_filter(learned_bloom, test_urls, tau, predictions)\n",
        "  fpr_post_learned_bloom, fnr_post_learned_bloom, time_post_learned_bloom = test_post_learned_bloom_filter(post_learned_bloom, test_urls, tau, predictions)\n",
        "\n",
        "  ml_model_size = asizeof.asizeof(model)\n",
        "  normal_bloom_size = asizeof.asizeof(normal_bloom)\n",
        "  learned_bloom_size = asizeof.asizeof(learned_bloom)\n",
        "  post_learned_bloom_size = asizeof.asizeof(post_learned_bloom)\n",
        "\n",
        "  memory_normal_bloom_results.append(normal_bloom_size / 1024)\n",
        "  memory_learned_bloom_results.append((learned_bloom_size + ml_model_size) / 1024)\n",
        "  memory_post_learned_bloom_results.append((post_learned_bloom_size + ml_model_size) / 1024)\n",
        "\n",
        "  # Store results\n",
        "  fpr_normal_bloom_results.append(fpr_normal_bloom)\n",
        "  fpr_learned_bloom_results.append(fpr_learned_bloom)\n",
        "  fpr_post_learned_bloom_results.append(fpr_post_learned_bloom)\n",
        "\n",
        "  fnr_learned_bloom_results.append(fnr_learned_bloom)\n",
        "  fnr_post_learned_bloom_results.append(fnr_post_learned_bloom)\n",
        "\n",
        "  time_normal_bloom_results.append(time_normal_bloom)\n",
        "  time_learned_bloom_results.append(time_learned_bloom)\n",
        "  time_post_learned_bloom_results.append(time_post_learned_bloom)"
      ],
      "metadata": {
        "id": "ZYcu0FxLM5CF",
        "colab": {
          "base_uri": "https://localhost:8080/",
          "height": 136,
          "referenced_widgets": [
            "0ba6b7a0f49a41f8826079cf87c5d651",
            "6a3d7b8cb9ab4d20a068306dcc751be7",
            "e5d1a59d8c264ebb9aa894c5abbfc940",
            "6f96ad58e5f24fbbac1e1a42779d4cd0",
            "47bf5599356643d6a6053d595b2978f0",
            "08048ff2a4514d9b88f30431f4c27ba6",
            "704b916007114f2fa0b4bbb9333cb73f",
            "d5f7ee20957c43a6a8c81a7563a39f3d",
            "c6562eb1376045ee8e58afa4a919cf30",
            "61d3161f37dd47b6b6c3f04a7dee8edf",
            "2e2b0338ef624509bb83f6c072b366f3"
          ]
        },
        "outputId": "45bbc8f1-c44d-49aa-9165-0e2b0255a5f3"
      },
      "execution_count": 55,
      "outputs": [
        {
          "output_type": "display_data",
          "data": {
            "text/plain": [
              "  0%|          | 0/5 [00:00<?, ?it/s]"
            ],
            "application/vnd.jupyter.widget-view+json": {
              "version_major": 2,
              "version_minor": 0,
              "model_id": "0ba6b7a0f49a41f8826079cf87c5d651"
            }
          },
          "metadata": {}
        },
        {
          "output_type": "stream",
          "name": "stdout",
          "text": [
            "2035/2035 [==============================] - 4s 2ms/step\n",
            "2035/2035 [==============================] - 4s 2ms/step\n",
            "2035/2035 [==============================] - 4s 2ms/step\n",
            "2035/2035 [==============================] - 4s 2ms/step\n",
            "2035/2035 [==============================] - 4s 2ms/step\n"
          ]
        }
      ]
    },
    {
      "cell_type": "markdown",
      "metadata": {
        "id": "5n4mTFmsq3Qc"
      },
      "source": [
        "# Plotting\n"
      ]
    },
    {
      "cell_type": "code",
      "execution_count": 56,
      "metadata": {
        "id": "Z9a3hahVwkL4",
        "colab": {
          "base_uri": "https://localhost:8080/",
          "height": 579
        },
        "outputId": "847d9631-c0e0-42c3-8a46-4a00e56bb5dc"
      },
      "outputs": [
        {
          "output_type": "display_data",
          "data": {
            "text/plain": [
              "<Figure size 600x600 with 1 Axes>"
            ],
            "image/png": "[encoded data removed]"
          },
          "metadata": {}
        }
      ],
      "source": [
        "import matplotlib.pyplot as plt\n",
        "\n",
        "# Plotting the query times\n",
        "plt.figure(figsize=(6, 6))\n",
        "plt.plot(error_rates, time_normal_bloom_results, label='Normal Bloom Query Time', marker='o')\n",
        "plt.plot(error_rates, time_learned_bloom_results, label='Pre-filter Learned Bloom Query Time', marker='x')\n",
        "plt.plot(error_rates, time_post_learned_bloom_results, label='Post-filter Learned Bloom Query Time', marker='*')\n",
        "\n",
        "plt.xlabel('Error Rate')\n",
        "plt.ylabel('Query Time (seconds)')\n",
        "plt.title('Query Time Comparison between Bloom Filters')\n",
        "plt.legend()\n",
        "plt.show()"
      ]
    },
    {
      "cell_type": "code",
      "source": [
        "# Plotting the false positive rates\n",
        "plt.figure(figsize=(6, 6))\n",
        "plt.plot(error_rates, fpr_normal_bloom_results, label='Normal Bloom FPR', marker='o')\n",
        "plt.plot(error_rates, fpr_learned_bloom_results, label='Pre-filter Learned Bloom FPR', marker='x')\n",
        "plt.plot(error_rates, fpr_post_learned_bloom_results, label='Post-filter Learned Bloom FPR', marker='*')\n",
        "\n",
        "plt.xlabel('Error Rate')\n",
        "plt.ylabel('False Positive Rate')\n",
        "plt.title('False Positive Rate Comparison between Bloom Filters')\n",
        "plt.legend()\n",
        "plt.show()"
      ],
      "metadata": {
        "id": "rGMfhCYyVd8v",
        "colab": {
          "base_uri": "https://localhost:8080/",
          "height": 564
        },
        "outputId": "112cb4af-8fa4-426c-a427-423720d9d21c"
      },
      "execution_count": 57,
      "outputs": [
        {
          "output_type": "display_data",
          "data": {
            "text/plain": [
              "<Figure size 600x600 with 1 Axes>"
            ],
            "image/png": "[encoded data removed]"
          },
          "metadata": {}
        }
      ]
    },
    {
      "cell_type": "code",
      "source": [
        "# Plotting the false negative rates\n",
        "plt.figure(figsize=(5, 6))\n",
        "plt.plot(error_rates, fnr_learned_bloom_results, label='Pre-filter Learned Bloom FNR', marker='x')\n",
        "plt.plot(error_rates, fnr_post_learned_bloom_results, label='Post-filter Learned Bloom FNR', marker='*')\n",
        "plt.xlabel('Error Rate')\n",
        "plt.ylabel('False Negative Rate')\n",
        "plt.title('False Negative Rate of Leanred Bloom Filters')\n",
        "plt.legend()\n",
        "plt.show()"
      ],
      "metadata": {
        "id": "qEpRm0iEGEUv",
        "colab": {
          "base_uri": "https://localhost:8080/",
          "height": 564
        },
        "outputId": "5cf72b46-0f85-47e8-8039-94b08ae3c6ac"
      },
      "execution_count": 58,
      "outputs": [
        {
          "output_type": "display_data",
          "data": {
            "text/plain": [
              "<Figure size 500x600 with 1 Axes>"
            ],
            "image/png": "[encoded data removed]"
          },
          "metadata": {}
        }
      ]
    },
    {
      "cell_type": "code",
      "source": [
        "# Plotting the memory footprint\n",
        "plt.figure(figsize=(6, 6))\n",
        "plt.plot(error_rates, memory_normal_bloom_results, label='Normal Bloom Memory Footprint', marker='o')\n",
        "plt.plot(error_rates, memory_learned_bloom_results, label='Pre-filter Learned Bloom Memory Footprint', marker='o')\n",
        "plt.plot(error_rates, memory_post_learned_bloom_results, label='Post-filter Learned Bloom Query Time', marker='*')\n",
        "\n",
        "plt.xlabel('Error Rate')\n",
        "plt.ylabel('Memory (kB)')\n",
        "plt.title('Memory Footprint Comparison between Bloom Filters')\n",
        "plt.legend()\n",
        "plt.show()"
      ],
      "metadata": {
        "id": "lHk7kDwZ3vl0",
        "colab": {
          "base_uri": "https://localhost:8080/",
          "height": 564
        },
        "outputId": "5648461e-588d-4387-caaa-4309d46210d4"
      },
      "execution_count": 59,
      "outputs": [
        {
          "output_type": "display_data",
          "data": {
            "text/plain": [
              "<Figure size 600x600 with 1 Axes>"
            ],
            "image/png": "[encoded data removed]"
          },
          "metadata": {}
        }
      ]
    },
    {
      "cell_type": "code",
      "source": [],
      "metadata": {
        "id": "DgI-FalRK7uJ"
      },
      "execution_count": 59,
      "outputs": []
    }
  ],
  "metadata": {
    "accelerator": "GPU",
    "colab": {
      "provenance": [],
      "machine_shape": "hm",
      "gpuType": "T4",
      "toc_visible": true
    },
    "kernelspec": {
      "display_name": "Python 3",
      "name": "python3"
    },
    "widgets": {
      "application/vnd.jupyter.widget-state+json": {
        "0ba6b7a0f49a41f8826079cf87c5d651": {
          "model_module": "@jupyter-widgets/controls",
          "model_name": "HBoxModel",
          "model_module_version": "1.5.0",
          "state": {
            "_dom_classes": [],
            "_model_module": "@jupyter-widgets/controls",
            "_model_module_version": "1.5.0",
            "_model_name": "HBoxModel",
            "_view_count": null,
            "_view_module": "@jupyter-widgets/controls",
            "_view_module_version": "1.5.0",
            "_view_name": "HBoxView",
            "box_style": "",
            "children": [
              "IPY_MODEL_6a3d7b8cb9ab4d20a068306dcc751be7",
              "IPY_MODEL_e5d1a59d8c264ebb9aa894c5abbfc940",
              "IPY_MODEL_6f96ad58e5f24fbbac1e1a42779d4cd0"
            ],
            "layout": "IPY_MODEL_47bf5599356643d6a6053d595b2978f0"
          }
        },
        "6a3d7b8cb9ab4d20a068306dcc751be7": {
          "model_module": "@jupyter-widgets/controls",
          "model_name": "HTMLModel",
          "model_module_version": "1.5.0",
          "state": {
            "_dom_classes": [],
            "_model_module": "@jupyter-widgets/controls",
            "_model_module_version": "1.5.0",
            "_model_name": "HTMLModel",
            "_view_count": null,
            "_view_module": "@jupyter-widgets/controls",
            "_view_module_version": "1.5.0",
            "_view_name": "HTMLView",
            "description": "",
            "description_tooltip": null,
            "layout": "IPY_MODEL_08048ff2a4514d9b88f30431f4c27ba6",
            "placeholder": "​",
            "style": "IPY_MODEL_704b916007114f2fa0b4bbb9333cb73f",
            "value": "100%"
          }
        },
        "e5d1a59d8c264ebb9aa894c5abbfc940": {
          "model_module": "@jupyter-widgets/controls",
          "model_name": "FloatProgressModel",
          "model_module_version": "1.5.0",
          "state": {
            "_dom_classes": [],
            "_model_module": "@jupyter-widgets/controls",
            "_model_module_version": "1.5.0",
            "_model_name": "FloatProgressModel",
            "_view_count": null,
            "_view_module": "@jupyter-widgets/controls",
            "_view_module_version": "1.5.0",
            "_view_name": "ProgressView",
            "bar_style": "success",
            "description": "",
            "description_tooltip": null,
            "layout": "IPY_MODEL_d5f7ee20957c43a6a8c81a7563a39f3d",
            "max": 5,
            "min": 0,
            "orientation": "horizontal",
            "style": "IPY_MODEL_c6562eb1376045ee8e58afa4a919cf30",
            "value": 5
          }
        },
        "6f96ad58e5f24fbbac1e1a42779d4cd0": {
          "model_module": "@jupyter-widgets/controls",
          "model_name": "HTMLModel",
          "model_module_version": "1.5.0",
          "state": {
            "_dom_classes": [],
            "_model_module": "@jupyter-widgets/controls",
            "_model_module_version": "1.5.0",
            "_model_name": "HTMLModel",
            "_view_count": null,
            "_view_module": "@jupyter-widgets/controls",
            "_view_module_version": "1.5.0",
            "_view_name": "HTMLView",
            "description": "",
            "description_tooltip": null,
            "layout": "IPY_MODEL_61d3161f37dd47b6b6c3f04a7dee8edf",
            "placeholder": "​",
            "style": "IPY_MODEL_2e2b0338ef624509bb83f6c072b366f3",
            "value": " 5/5 [00:46&lt;00:00,  9.21s/it]"
          }
        },
        "47bf5599356643d6a6053d595b2978f0": {
          "model_module": "@jupyter-widgets/base",
          "model_name": "LayoutModel",
          "model_module_version": "1.2.0",
          "state": {
            "_model_module": "@jupyter-widgets/base",
            "_model_module_version": "1.2.0",
            "_model_name": "LayoutModel",
            "_view_count": null,
            "_view_module": "@jupyter-widgets/base",
            "_view_module_version": "1.2.0",
            "_view_name": "LayoutView",
            "align_content": null,
            "align_items": null,
            "align_self": null,
            "border": null,
            "bottom": null,
            "display": null,
            "flex": null,
            "flex_flow": null,
            "grid_area": null,
            "grid_auto_columns": null,
            "grid_auto_flow": null,
            "grid_auto_rows": null,
            "grid_column": null,
            "grid_gap": null,
            "grid_row": null,
            "grid_template_areas": null,
            "grid_template_columns": null,
            "grid_template_rows": null,
            "height": null,
            "justify_content": null,
            "justify_items": null,
            "left": null,
            "margin": null,
            "max_height": null,
            "max_width": null,
            "min_height": null,
            "min_width": null,
            "object_fit": null,
            "object_position": null,
            "order": null,
            "overflow": null,
            "overflow_x": null,
            "overflow_y": null,
            "padding": null,
            "right": null,
            "top": null,
            "visibility": null,
            "width": null
          }
        },
        "08048ff2a4514d9b88f30431f4c27ba6": {
          "model_module": "@jupyter-widgets/base",
          "model_name": "LayoutModel",
          "model_module_version": "1.2.0",
          "state": {
            "_model_module": "@jupyter-widgets/base",
            "_model_module_version": "1.2.0",
            "_model_name": "LayoutModel",
            "_view_count": null,
            "_view_module": "@jupyter-widgets/base",
            "_view_module_version": "1.2.0",
            "_view_name": "LayoutView",
            "align_content": null,
            "align_items": null,
            "align_self": null,
            "border": null,
            "bottom": null,
            "display": null,
            "flex": null,
            "flex_flow": null,
            "grid_area": null,
            "grid_auto_columns": null,
            "grid_auto_flow": null,
            "grid_auto_rows": null,
            "grid_column": null,
            "grid_gap": null,
            "grid_row": null,
            "grid_template_areas": null,
            "grid_template_columns": null,
            "grid_template_rows": null,
            "height": null,
            "justify_content": null,
            "justify_items": null,
            "left": null,
            "margin": null,
            "max_height": null,
            "max_width": null,
            "min_height": null,
            "min_width": null,
            "object_fit": null,
            "object_position": null,
            "order": null,
            "overflow": null,
            "overflow_x": null,
            "overflow_y": null,
            "padding": null,
            "right": null,
            "top": null,
            "visibility": null,
            "width": null
          }
        },
        "704b916007114f2fa0b4bbb9333cb73f": {
          "model_module": "@jupyter-widgets/controls",
          "model_name": "DescriptionStyleModel",
          "model_module_version": "1.5.0",
          "state": {
            "_model_module": "@jupyter-widgets/controls",
            "_model_module_version": "1.5.0",
            "_model_name": "DescriptionStyleModel",
            "_view_count": null,
            "_view_module": "@jupyter-widgets/base",
            "_view_module_version": "1.2.0",
            "_view_name": "StyleView",
            "description_width": ""
          }
        },
        "d5f7ee20957c43a6a8c81a7563a39f3d": {
          "model_module": "@jupyter-widgets/base",
          "model_name": "LayoutModel",
          "model_module_version": "1.2.0",
          "state": {
            "_model_module": "@jupyter-widgets/base",
            "_model_module_version": "1.2.0",
            "_model_name": "LayoutModel",
            "_view_count": null,
            "_view_module": "@jupyter-widgets/base",
            "_view_module_version": "1.2.0",
            "_view_name": "LayoutView",
            "align_content": null,
            "align_items": null,
            "align_self": null,
            "border": null,
            "bottom": null,
            "display": null,
            "flex": null,
            "flex_flow": null,
            "grid_area": null,
            "grid_auto_columns": null,
            "grid_auto_flow": null,
            "grid_auto_rows": null,
            "grid_column": null,
            "grid_gap": null,
            "grid_row": null,
            "grid_template_areas": null,
            "grid_template_columns": null,
            "grid_template_rows": null,
            "height": null,
            "justify_content": null,
            "justify_items": null,
            "left": null,
            "margin": null,
            "max_height": null,
            "max_width": null,
            "min_height": null,
            "min_width": null,
            "object_fit": null,
            "object_position": null,
            "order": null,
            "overflow": null,
            "overflow_x": null,
            "overflow_y": null,
            "padding": null,
            "right": null,
            "top": null,
            "visibility": null,
            "width": null
          }
        },
        "c6562eb1376045ee8e58afa4a919cf30": {
          "model_module": "@jupyter-widgets/controls",
          "model_name": "ProgressStyleModel",
          "model_module_version": "1.5.0",
          "state": {
            "_model_module": "@jupyter-widgets/controls",
            "_model_module_version": "1.5.0",
            "_model_name": "ProgressStyleModel",
            "_view_count": null,
            "_view_module": "@jupyter-widgets/base",
            "_view_module_version": "1.2.0",
            "_view_name": "StyleView",
            "bar_color": null,
            "description_width": ""
          }
        },
        "61d3161f37dd47b6b6c3f04a7dee8edf": {
          "model_module": "@jupyter-widgets/base",
          "model_name": "LayoutModel",
          "model_module_version": "1.2.0",
          "state": {
            "_model_module": "@jupyter-widgets/base",
            "_model_module_version": "1.2.0",
            "_model_name": "LayoutModel",
            "_view_count": null,
            "_view_module": "@jupyter-widgets/base",
            "_view_module_version": "1.2.0",
            "_view_name": "LayoutView",
            "align_content": null,
            "align_items": null,
            "align_self": null,
            "border": null,
            "bottom": null,
            "display": null,
            "flex": null,
            "flex_flow": null,
            "grid_area": null,
            "grid_auto_columns": null,
            "grid_auto_flow": null,
            "grid_auto_rows": null,
            "grid_column": null,
            "grid_gap": null,
            "grid_row": null,
            "grid_template_areas": null,
            "grid_template_columns": null,
            "grid_template_rows": null,
            "height": null,
            "justify_content": null,
            "justify_items": null,
            "left": null,
            "margin": null,
            "max_height": null,
            "max_width": null,
            "min_height": null,
            "min_width": null,
            "object_fit": null,
            "object_position": null,
            "order": null,
            "overflow": null,
            "overflow_x": null,
            "overflow_y": null,
            "padding": null,
            "right": null,
            "top": null,
            "visibility": null,
            "width": null
          }
        },
        "2e2b0338ef624509bb83f6c072b366f3": {
          "model_module": "@jupyter-widgets/controls",
          "model_name": "DescriptionStyleModel",
          "model_module_version": "1.5.0",
          "state": {
            "_model_module": "@jupyter-widgets/controls",
            "_model_module_version": "1.5.0",
            "_model_name": "DescriptionStyleModel",
            "_view_count": null,
            "_view_module": "@jupyter-widgets/base",
            "_view_module_version": "1.2.0",
            "_view_name": "StyleView",
            "description_width": ""
          }
        }
      }
    }
  },
  "nbformat": 4,
  "nbformat_minor": 0
}