{
  "nbformat": 4,
  "nbformat_minor": 0,
  "metadata": {
    "colab": {
      "provenance": [],
      "collapsed_sections": [
        "f6dicST8MXUY",
        "tHVV-IQNsRMs"
      ],
      "machine_shape": "hm"
    },
    "kernelspec": {
      "name": "python3",
      "display_name": "Python 3"
    },
    "language_info": {
      "name": "python"
    }
  },
  "cells": [
    {
      "cell_type": "markdown",
      "source": [
        "# Setup"
      ],
      "metadata": {
        "id": "f6dicST8MXUY"
      }
    },
    {
      "cell_type": "code",
      "execution_count": 15,
      "metadata": {
        "colab": {
          "base_uri": "https://localhost:8080/"
        },
        "id": "u-xUrrk1Nnkz",
        "outputId": "a2a1b754-7fc4-4276-b566-447170990144"
      },
      "outputs": [
        {
          "output_type": "stream",
          "name": "stdout",
          "text": [
            "Downloading...\n",
            "From: https://drive.google.com/uc?id=1Q8Q7a4jUrM2EJoaeGQkiKcdmMJ-G4fBg\n",
            "To: /content/nsl_kdd.zip\n",
            "\r  0% 0.00/14.5M [00:00<?, ?B/s]\r100% 14.5M/14.5M [00:00<00:00, 160MB/s]\n",
            "Archive:  nsl_kdd.zip\n",
            "replace KDDTest+.arff? [y]es, [n]o, [A]ll, [N]one, [r]ename: y\n",
            "  inflating: KDDTest+.arff           \n",
            "replace KDDTest+.txt? [y]es, [n]o, [A]ll, [N]one, [r]ename: a\n",
            "error:  invalid response [a]\n",
            "replace KDDTest+.txt? [y]es, [n]o, [A]ll, [N]one, [r]ename: \n",
            "error:  invalid response [{ENTER}]\n",
            "replace KDDTest+.txt? [y]es, [n]o, [A]ll, [N]one, [r]ename: A\n",
            "  inflating: KDDTest+.txt            \n",
            "  inflating: KDDTest-21.arff         \n",
            "  inflating: KDDTest-21.txt          \n",
            "  inflating: KDDTest1.jpg            \n",
            "  inflating: KDDTrain+.arff          \n",
            "  inflating: KDDTrain+.txt           \n",
            "  inflating: KDDTrain+_20Percent.arff  \n",
            "  inflating: KDDTrain+_20Percent.txt  \n",
            "  inflating: KDDTrain1.jpg           \n",
            "  inflating: index.html              \n",
            "  inflating: nsl-kdd/KDDTest+.arff   \n",
            "  inflating: nsl-kdd/KDDTest+.txt    \n",
            "  inflating: nsl-kdd/KDDTest-21.arff  \n",
            "  inflating: nsl-kdd/KDDTest-21.txt  \n",
            "  inflating: nsl-kdd/KDDTest1.jpg    \n",
            "  inflating: nsl-kdd/KDDTrain+.arff  \n",
            "  inflating: nsl-kdd/KDDTrain+.txt   \n",
            "  inflating: nsl-kdd/KDDTrain+_20Percent.arff  \n",
            "  inflating: nsl-kdd/KDDTrain+_20Percent.txt  \n",
            "  inflating: nsl-kdd/KDDTrain1.jpg   \n",
            "  inflating: nsl-kdd/index.html      \n"
          ]
        }
      ],
      "source": [
        "!gdown 1Q8Q7a4jUrM2EJoaeGQkiKcdmMJ-G4fBg -O nsl_kdd.zip\n",
        "!unzip nsl_kdd.zip"
      ]
    },
    {
      "cell_type": "code",
      "source": [
        "import numpy as np\n",
        "import pandas as pd\n",
        "from sklearn import preprocessing\n",
        "from sklearn.preprocessing import (StandardScaler, OrdinalEncoder,LabelEncoder, MinMaxScaler, OneHotEncoder)\n",
        "from sklearn.preprocessing import Normalizer, MaxAbsScaler , RobustScaler, PowerTransformer\n",
        "\n",
        "import matplotlib.pyplot as plt\n",
        "from sklearn.metrics import accuracy_score, classification_report\n",
        "from sklearn.model_selection import train_test_split\n",
        "\n",
        "from keras.utils import to_categorical\n",
        "from keras.layers import Dense, Conv1D, MaxPool1D, Flatten, Dropout, Input\n",
        "from keras.models import Sequential, Model"
      ],
      "metadata": {
        "id": "ZDptNLgHsoBd"
      },
      "execution_count": 16,
      "outputs": []
    },
    {
      "cell_type": "code",
      "source": [
        "import matplotlib.pyplot as plt\n",
        "import itertools\n",
        "\n",
        "def plot_confusion_matrix(cm, classes,\n",
        "                          normalize=False,\n",
        "                          title='Confusion matrix',\n",
        "                          cmap=plt.cm.Blues):\n",
        "    \"\"\"\n",
        "    See full source and example:\n",
        "    http://scikit-learn.org/stable/auto_examples/model_selection/plot_confusion_matrix.html\n",
        "\n",
        "    This function prints and plots the confusion matrix.\n",
        "    Normalization can be applied by setting `normalize=True`.\n",
        "    \"\"\"\n",
        "    plt.imshow(cm, interpolation='nearest', cmap=cmap)\n",
        "    plt.title(title)\n",
        "    plt.colorbar()\n",
        "    tick_marks = np.arange(len(classes))\n",
        "    plt.xticks(tick_marks, classes, rotation=45)\n",
        "    plt.yticks(tick_marks, classes)\n",
        "\n",
        "    if normalize:\n",
        "        cm = cm.astype('float') / cm.sum(axis=1)[:, np.newaxis]\n",
        "        print(\"Normalized confusion matrix\")\n",
        "    else:\n",
        "        print('Confusion matrix, without normalization')\n",
        "\n",
        "    thresh = cm.max() / 2.\n",
        "    for i, j in itertools.product(range(cm.shape[0]), range(cm.shape[1])):\n",
        "      plt.text(j, i, cm[i, j],\n",
        "          horizontalalignment=\"center\",\n",
        "          color=\"white\" if cm[i, j] > thresh else \"black\")\n",
        "\n",
        "      plt.tight_layout()\n",
        "      plt.ylabel('True label')\n",
        "      plt.xlabel('Predicted label')"
      ],
      "metadata": {
        "id": "lRVEJd_VxQnE"
      },
      "execution_count": 17,
      "outputs": []
    },
    {
      "cell_type": "code",
      "source": [
        "features=[\"duration\",\"protocol_type\",\"service\",\"flag\",\"src_bytes\",\"dst_bytes\",\"land\",\"wrong_fragment\",\"urgent\",\"hot\",\n",
        "          \"num_failed_logins\",\"logged_in\",\"num_compromised\",\"root_shell\",\"su_attempted\",\"num_root\",\"num_file_creations\",\"num_shells\",\n",
        "          \"num_access_files\",\"num_outbound_cmds\",\"is_host_login\",\"is_guest_login\",\"count\",\"srv_count\",\"serror_rate\",\"srv_serror_rate\",\n",
        "          \"rerror_rate\",\"srv_rerror_rate\",\"same_srv_rate\",\"diff_srv_rate\",\"srv_diff_host_rate\",\"dst_host_count\",\"dst_host_srv_count\",\n",
        "          \"dst_host_same_srv_rate\",\"dst_host_diff_srv_rate\",\"dst_host_same_src_port_rate\",\"dst_host_srv_diff_host_rate\",\"dst_host_serror_rate\",\n",
        "          \"dst_host_srv_serror_rate\",\"dst_host_rerror_rate\",\"dst_host_srv_rerror_rate\",\"label\",\"difficulty\"]"
      ],
      "metadata": {
        "id": "72hGh62SNFYb"
      },
      "execution_count": 18,
      "outputs": []
    },
    {
      "cell_type": "code",
      "source": [
        "data = pd.read_csv('./nsl-kdd/KDDTrain+.txt', names=features)\n",
        "\n",
        "data.drop(['difficulty'],axis=1,inplace=True)\n",
        "data.head()"
      ],
      "metadata": {
        "colab": {
          "base_uri": "https://localhost:8080/",
          "height": 256
        },
        "id": "Su1OvJeALuou",
        "outputId": "fa050086-9b66-49d8-9a8f-ea7a4b225e17"
      },
      "execution_count": 19,
      "outputs": [
        {
          "output_type": "execute_result",
          "data": {
            "text/plain": [
              "   duration protocol_type   service flag  src_bytes  dst_bytes  land  \\\n",
              "0         0           tcp  ftp_data   SF        491          0     0   \n",
              "1         0           udp     other   SF        146          0     0   \n",
              "2         0           tcp   private   S0          0          0     0   \n",
              "3         0           tcp      http   SF        232       8153     0   \n",
              "4         0           tcp      http   SF        199        420     0   \n",
              "\n",
              "   wrong_fragment  urgent  hot  ...  dst_host_srv_count  \\\n",
              "0               0       0    0  ...                  25   \n",
              "1               0       0    0  ...                   1   \n",
              "2               0       0    0  ...                  26   \n",
              "3               0       0    0  ...                 255   \n",
              "4               0       0    0  ...                 255   \n",
              "\n",
              "   dst_host_same_srv_rate  dst_host_diff_srv_rate  \\\n",
              "0                    0.17                    0.03   \n",
              "1                    0.00                    0.60   \n",
              "2                    0.10                    0.05   \n",
              "3                    1.00                    0.00   \n",
              "4                    1.00                    0.00   \n",
              "\n",
              "   dst_host_same_src_port_rate  dst_host_srv_diff_host_rate  \\\n",
              "0                         0.17                         0.00   \n",
              "1                         0.88                         0.00   \n",
              "2                         0.00                         0.00   \n",
              "3                         0.03                         0.04   \n",
              "4                         0.00                         0.00   \n",
              "\n",
              "   dst_host_serror_rate  dst_host_srv_serror_rate  dst_host_rerror_rate  \\\n",
              "0                  0.00                      0.00                  0.05   \n",
              "1                  0.00                      0.00                  0.00   \n",
              "2                  1.00                      1.00                  0.00   \n",
              "3                  0.03                      0.01                  0.00   \n",
              "4                  0.00                      0.00                  0.00   \n",
              "\n",
              "   dst_host_srv_rerror_rate    label  \n",
              "0                      0.00   normal  \n",
              "1                      0.00   normal  \n",
              "2                      0.00  neptune  \n",
              "3                      0.01   normal  \n",
              "4                      0.00   normal  \n",
              "\n",
              "[5 rows x 42 columns]"
            ],
            "text/html": [
              "\n",
              "  <div id=\"df-fc046bb2-a539-47c1-8adc-9035ca603577\" class=\"colab-df-container\">\n",
              "    <div>\n",
              "<style scoped>\n",
              "    .dataframe tbody tr th:only-of-type {\n",
              "        vertical-align: middle;\n",
              "    }\n",
              "\n",
              "    .dataframe tbody tr th {\n",
              "        vertical-align: top;\n",
              "    }\n",
              "\n",
              "    .dataframe thead th {\n",
              "        text-align: right;\n",
              "    }\n",
              "</style>\n",
              "<table border=\"1\" class=\"dataframe\">\n",
              "  <thead>\n",
              "    <tr style=\"text-align: right;\">\n",
              "      <th></th>\n",
              "      <th>duration</th>\n",
              "      <th>protocol_type</th>\n",
              "      <th>service</th>\n",
              "      <th>flag</th>\n",
              "      <th>src_bytes</th>\n",
              "      <th>dst_bytes</th>\n",
              "      <th>land</th>\n",
              "      <th>wrong_fragment</th>\n",
              "      <th>urgent</th>\n",
              "      <th>hot</th>\n",
              "      <th>...</th>\n",
              "      <th>dst_host_srv_count</th>\n",
              "      <th>dst_host_same_srv_rate</th>\n",
              "      <th>dst_host_diff_srv_rate</th>\n",
              "      <th>dst_host_same_src_port_rate</th>\n",
              "      <th>dst_host_srv_diff_host_rate</th>\n",
              "      <th>dst_host_serror_rate</th>\n",
              "      <th>dst_host_srv_serror_rate</th>\n",
              "      <th>dst_host_rerror_rate</th>\n",
              "      <th>dst_host_srv_rerror_rate</th>\n",
              "      <th>label</th>\n",
              "    </tr>\n",
              "  </thead>\n",
              "  <tbody>\n",
              "    <tr>\n",
              "      <th>0</th>\n",
              "      <td>0</td>\n",
              "      <td>tcp</td>\n",
              "      <td>ftp_data</td>\n",
              "      <td>SF</td>\n",
              "      <td>491</td>\n",
              "      <td>0</td>\n",
              "      <td>0</td>\n",
              "      <td>0</td>\n",
              "      <td>0</td>\n",
              "      <td>0</td>\n",
              "      <td>...</td>\n",
              "      <td>25</td>\n",
              "      <td>0.17</td>\n",
              "      <td>0.03</td>\n",
              "      <td>0.17</td>\n",
              "      <td>0.00</td>\n",
              "      <td>0.00</td>\n",
              "      <td>0.00</td>\n",
              "      <td>0.05</td>\n",
              "      <td>0.00</td>\n",
              "      <td>normal</td>\n",
              "    </tr>\n",
              "    <tr>\n",
              "      <th>1</th>\n",
              "      <td>0</td>\n",
              "      <td>udp</td>\n",
              "      <td>other</td>\n",
              "      <td>SF</td>\n",
              "      <td>146</td>\n",
              "      <td>0</td>\n",
              "      <td>0</td>\n",
              "      <td>0</td>\n",
              "      <td>0</td>\n",
              "      <td>0</td>\n",
              "      <td>...</td>\n",
              "      <td>1</td>\n",
              "      <td>0.00</td>\n",
              "      <td>0.60</td>\n",
              "      <td>0.88</td>\n",
              "      <td>0.00</td>\n",
              "      <td>0.00</td>\n",
              "      <td>0.00</td>\n",
              "      <td>0.00</td>\n",
              "      <td>0.00</td>\n",
              "      <td>normal</td>\n",
              "    </tr>\n",
              "    <tr>\n",
              "      <th>2</th>\n",
              "      <td>0</td>\n",
              "      <td>tcp</td>\n",
              "      <td>private</td>\n",
              "      <td>S0</td>\n",
              "      <td>0</td>\n",
              "      <td>0</td>\n",
              "      <td>0</td>\n",
              "      <td>0</td>\n",
              "      <td>0</td>\n",
              "      <td>0</td>\n",
              "      <td>...</td>\n",
              "      <td>26</td>\n",
              "      <td>0.10</td>\n",
              "      <td>0.05</td>\n",
              "      <td>0.00</td>\n",
              "      <td>0.00</td>\n",
              "      <td>1.00</td>\n",
              "      <td>1.00</td>\n",
              "      <td>0.00</td>\n",
              "      <td>0.00</td>\n",
              "      <td>neptune</td>\n",
              "    </tr>\n",
              "    <tr>\n",
              "      <th>3</th>\n",
              "      <td>0</td>\n",
              "      <td>tcp</td>\n",
              "      <td>http</td>\n",
              "      <td>SF</td>\n",
              "      <td>232</td>\n",
              "      <td>8153</td>\n",
              "      <td>0</td>\n",
              "      <td>0</td>\n",
              "      <td>0</td>\n",
              "      <td>0</td>\n",
              "      <td>...</td>\n",
              "      <td>255</td>\n",
              "      <td>1.00</td>\n",
              "      <td>0.00</td>\n",
              "      <td>0.03</td>\n",
              "      <td>0.04</td>\n",
              "      <td>0.03</td>\n",
              "      <td>0.01</td>\n",
              "      <td>0.00</td>\n",
              "      <td>0.01</td>\n",
              "      <td>normal</td>\n",
              "    </tr>\n",
              "    <tr>\n",
              "      <th>4</th>\n",
              "      <td>0</td>\n",
              "      <td>tcp</td>\n",
              "      <td>http</td>\n",
              "      <td>SF</td>\n",
              "      <td>199</td>\n",
              "      <td>420</td>\n",
              "      <td>0</td>\n",
              "      <td>0</td>\n",
              "      <td>0</td>\n",
              "      <td>0</td>\n",
              "      <td>...</td>\n",
              "      <td>255</td>\n",
              "      <td>1.00</td>\n",
              "      <td>0.00</td>\n",
              "      <td>0.00</td>\n",
              "      <td>0.00</td>\n",
              "      <td>0.00</td>\n",
              "      <td>0.00</td>\n",
              "      <td>0.00</td>\n",
              "      <td>0.00</td>\n",
              "      <td>normal</td>\n",
              "    </tr>\n",
              "  </tbody>\n",
              "</table>\n",
              "<p>5 rows × 42 columns</p>\n",
              "</div>\n",
              "    <div class=\"colab-df-buttons\">\n",
              "\n",
              "  <div class=\"colab-df-container\">\n",
              "    <button class=\"colab-df-convert\" onclick=\"convertToInteractive('df-fc046bb2-a539-47c1-8adc-9035ca603577')\"\n",
              "            title=\"Convert this dataframe to an interactive table.\"\n",
              "            style=\"display:none;\">\n",
              "\n",
              "  <svg xmlns=\"http://www.w3.org/2000/svg\" height=\"24px\" viewBox=\"0 -960 960 960\">\n",
              "    <path d=\"M120-120v-720h720v720H120Zm60-500h600v-160H180v160Zm220 220h160v-160H400v160Zm0 220h160v-160H400v160ZM180-400h160v-160H180v160Zm440 0h160v-160H620v160ZM180-180h160v-160H180v160Zm440 0h160v-160H620v160Z\"/>\n",
              "  </svg>\n",
              "    </button>\n",
              "\n",
              "  <style>\n",
              "    .colab-df-container {\n",
              "      display:flex;\n",
              "      gap: 12px;\n",
              "    }\n",
              "\n",
              "    .colab-df-convert {\n",
              "      background-color: #E8F0FE;\n",
              "      border: none;\n",
              "      border-radius: 50%;\n",
              "      cursor: pointer;\n",
              "      display: none;\n",
              "      fill: #1967D2;\n",
              "      height: 32px;\n",
              "      padding: 0 0 0 0;\n",
              "      width: 32px;\n",
              "    }\n",
              "\n",
              "    .colab-df-convert:hover {\n",
              "      background-color: #E2EBFA;\n",
              "      box-shadow: 0px 1px 2px rgba(60, 64, 67, 0.3), 0px 1px 3px 1px rgba(60, 64, 67, 0.15);\n",
              "      fill: #174EA6;\n",
              "    }\n",
              "\n",
              "    .colab-df-buttons div {\n",
              "      margin-bottom: 4px;\n",
              "    }\n",
              "\n",
              "    [theme=dark] .colab-df-convert {\n",
              "      background-color: #3B4455;\n",
              "      fill: #D2E3FC;\n",
              "    }\n",
              "\n",
              "    [theme=dark] .colab-df-convert:hover {\n",
              "      background-color: #434B5C;\n",
              "      box-shadow: 0px 1px 3px 1px rgba(0, 0, 0, 0.15);\n",
              "      filter: drop-shadow(0px 1px 2px rgba(0, 0, 0, 0.3));\n",
              "      fill: #FFFFFF;\n",
              "    }\n",
              "  </style>\n",
              "\n",
              "    <script>\n",
              "      const buttonEl =\n",
              "        document.querySelector('#df-fc046bb2-a539-47c1-8adc-9035ca603577 button.colab-df-convert');\n",
              "      buttonEl.style.display =\n",
              "        google.colab.kernel.accessAllowed ? 'block' : 'none';\n",
              "\n",
              "      async function convertToInteractive(key) {\n",
              "        const element = document.querySelector('#df-fc046bb2-a539-47c1-8adc-9035ca603577');\n",
              "        const dataTable =\n",
              "          await google.colab.kernel.invokeFunction('convertToInteractive',\n",
              "                                                    [key], {});\n",
              "        if (!dataTable) return;\n",
              "\n",
              "        const docLinkHtml = 'Like what you see? Visit the ' +\n",
              "          '<a target=\"_blank\" href=https://colab.research.google.com/notebooks/data_table.ipynb>data table notebook</a>'\n",
              "          + ' to learn more about interactive tables.';\n",
              "        element.innerHTML = '';\n",
              "        dataTable['output_type'] = 'display_data';\n",
              "        await google.colab.output.renderOutput(dataTable, element);\n",
              "        const docLink = document.createElement('div');\n",
              "        docLink.innerHTML = docLinkHtml;\n",
              "        element.appendChild(docLink);\n",
              "      }\n",
              "    </script>\n",
              "  </div>\n",
              "\n",
              "\n",
              "<div id=\"df-610141c4-6afd-4d19-b348-b4bf44ff22c6\">\n",
              "  <button class=\"colab-df-quickchart\" onclick=\"quickchart('df-610141c4-6afd-4d19-b348-b4bf44ff22c6')\"\n",
              "            title=\"Suggest charts\"\n",
              "            style=\"display:none;\">\n",
              "\n",
              "<svg xmlns=\"http://www.w3.org/2000/svg\" height=\"24px\"viewBox=\"0 0 24 24\"\n",
              "     width=\"24px\">\n",
              "    <g>\n",
              "        <path d=\"M19 3H5c-1.1 0-2 .9-2 2v14c0 1.1.9 2 2 2h14c1.1 0 2-.9 2-2V5c0-1.1-.9-2-2-2zM9 17H7v-7h2v7zm4 0h-2V7h2v10zm4 0h-2v-4h2v4z\"/>\n",
              "    </g>\n",
              "</svg>\n",
              "  </button>\n",
              "\n",
              "<style>\n",
              "  .colab-df-quickchart {\n",
              "      --bg-color: #E8F0FE;\n",
              "      --fill-color: #1967D2;\n",
              "      --hover-bg-color: #E2EBFA;\n",
              "      --hover-fill-color: #174EA6;\n",
              "      --disabled-fill-color: #AAA;\n",
              "      --disabled-bg-color: #DDD;\n",
              "  }\n",
              "\n",
              "  [theme=dark] .colab-df-quickchart {\n",
              "      --bg-color: #3B4455;\n",
              "      --fill-color: #D2E3FC;\n",
              "      --hover-bg-color: #434B5C;\n",
              "      --hover-fill-color: #FFFFFF;\n",
              "      --disabled-bg-color: #3B4455;\n",
              "      --disabled-fill-color: #666;\n",
              "  }\n",
              "\n",
              "  .colab-df-quickchart {\n",
              "    background-color: var(--bg-color);\n",
              "    border: none;\n",
              "    border-radius: 50%;\n",
              "    cursor: pointer;\n",
              "    display: none;\n",
              "    fill: var(--fill-color);\n",
              "    height: 32px;\n",
              "    padding: 0;\n",
              "    width: 32px;\n",
              "  }\n",
              "\n",
              "  .colab-df-quickchart:hover {\n",
              "    background-color: var(--hover-bg-color);\n",
              "    box-shadow: 0 1px 2px rgba(60, 64, 67, 0.3), 0 1px 3px 1px rgba(60, 64, 67, 0.15);\n",
              "    fill: var(--button-hover-fill-color);\n",
              "  }\n",
              "\n",
              "  .colab-df-quickchart-complete:disabled,\n",
              "  .colab-df-quickchart-complete:disabled:hover {\n",
              "    background-color: var(--disabled-bg-color);\n",
              "    fill: var(--disabled-fill-color);\n",
              "    box-shadow: none;\n",
              "  }\n",
              "\n",
              "  .colab-df-spinner {\n",
              "    border: 2px solid var(--fill-color);\n",
              "    border-color: transparent;\n",
              "    border-bottom-color: var(--fill-color);\n",
              "    animation:\n",
              "      spin 1s steps(1) infinite;\n",
              "  }\n",
              "\n",
              "  @keyframes spin {\n",
              "    0% {\n",
              "      border-color: transparent;\n",
              "      border-bottom-color: var(--fill-color);\n",
              "      border-left-color: var(--fill-color);\n",
              "    }\n",
              "    20% {\n",
              "      border-color: transparent;\n",
              "      border-left-color: var(--fill-color);\n",
              "      border-top-color: var(--fill-color);\n",
              "    }\n",
              "    30% {\n",
              "      border-color: transparent;\n",
              "      border-left-color: var(--fill-color);\n",
              "      border-top-color: var(--fill-color);\n",
              "      border-right-color: var(--fill-color);\n",
              "    }\n",
              "    40% {\n",
              "      border-color: transparent;\n",
              "      border-right-color: var(--fill-color);\n",
              "      border-top-color: var(--fill-color);\n",
              "    }\n",
              "    60% {\n",
              "      border-color: transparent;\n",
              "      border-right-color: var(--fill-color);\n",
              "    }\n",
              "    80% {\n",
              "      border-color: transparent;\n",
              "      border-right-color: var(--fill-color);\n",
              "      border-bottom-color: var(--fill-color);\n",
              "    }\n",
              "    90% {\n",
              "      border-color: transparent;\n",
              "      border-bottom-color: var(--fill-color);\n",
              "    }\n",
              "  }\n",
              "</style>\n",
              "\n",
              "  <script>\n",
              "    async function quickchart(key) {\n",
              "      const quickchartButtonEl =\n",
              "        document.querySelector('#' + key + ' button');\n",
              "      quickchartButtonEl.disabled = true;  // To prevent multiple clicks.\n",
              "      quickchartButtonEl.classList.add('colab-df-spinner');\n",
              "      try {\n",
              "        const charts = await google.colab.kernel.invokeFunction(\n",
              "            'suggestCharts', [key], {});\n",
              "      } catch (error) {\n",
              "        console.error('Error during call to suggestCharts:', error);\n",
              "      }\n",
              "      quickchartButtonEl.classList.remove('colab-df-spinner');\n",
              "      quickchartButtonEl.classList.add('colab-df-quickchart-complete');\n",
              "    }\n",
              "    (() => {\n",
              "      let quickchartButtonEl =\n",
              "        document.querySelector('#df-610141c4-6afd-4d19-b348-b4bf44ff22c6 button');\n",
              "      quickchartButtonEl.style.display =\n",
              "        google.colab.kernel.accessAllowed ? 'block' : 'none';\n",
              "    })();\n",
              "  </script>\n",
              "</div>\n",
              "    </div>\n",
              "  </div>\n"
            ]
          },
          "metadata": {},
          "execution_count": 19
        }
      ]
    },
    {
      "cell_type": "code",
      "source": [
        "data['label'].value_counts()"
      ],
      "metadata": {
        "colab": {
          "base_uri": "https://localhost:8080/"
        },
        "id": "deKMFKngNk68",
        "outputId": "14125e81-dd90-47b7-883b-47cdc593618c"
      },
      "execution_count": 20,
      "outputs": [
        {
          "output_type": "execute_result",
          "data": {
            "text/plain": [
              "normal             67343\n",
              "neptune            41214\n",
              "satan               3633\n",
              "ipsweep             3599\n",
              "portsweep           2931\n",
              "smurf               2646\n",
              "nmap                1493\n",
              "back                 956\n",
              "teardrop             892\n",
              "warezclient          890\n",
              "pod                  201\n",
              "guess_passwd          53\n",
              "buffer_overflow       30\n",
              "warezmaster           20\n",
              "land                  18\n",
              "imap                  11\n",
              "rootkit               10\n",
              "loadmodule             9\n",
              "ftp_write              8\n",
              "multihop               7\n",
              "phf                    4\n",
              "perl                   3\n",
              "spy                    2\n",
              "Name: label, dtype: int64"
            ]
          },
          "metadata": {},
          "execution_count": 20
        }
      ]
    },
    {
      "cell_type": "code",
      "source": [
        "def combine_classes(df):\n",
        "  df.label.replace(['apache2','back','land','neptune','mailbomb','pod','processtable','smurf','teardrop','udpstorm','worm'],'DOS',inplace=True)\n",
        "  df.label.replace(['ipsweep','mscan','nmap','portsweep','saint','satan'],'Probe',inplace=True)\n",
        "  df.label.replace(['ftp_write','guess_passwd','httptunnel','imap','multihop','named','phf','sendmail','snmpgetattack','snmpguess','spy','warezclient','warezmaster','xlock','xsnoop'],'Other',inplace=True)\n",
        "  df.label.replace(['buffer_overflow','loadmodule','perl','ps','rootkit','sqlattack','xterm'],'Other',inplace=True)"
      ],
      "metadata": {
        "id": "sR7X3MCCN3OW"
      },
      "execution_count": 21,
      "outputs": []
    },
    {
      "cell_type": "code",
      "source": [
        "combine_classes(data)\n",
        "data['label'].value_counts()"
      ],
      "metadata": {
        "colab": {
          "base_uri": "https://localhost:8080/"
        },
        "id": "MDwu-NUON93k",
        "outputId": "a9376803-233c-42e8-91bf-7d5d0654b76a"
      },
      "execution_count": 22,
      "outputs": [
        {
          "output_type": "execute_result",
          "data": {
            "text/plain": [
              "normal    67343\n",
              "DOS       45927\n",
              "Probe     11656\n",
              "Other      1047\n",
              "Name: label, dtype: int64"
            ]
          },
          "metadata": {},
          "execution_count": 22
        }
      ]
    },
    {
      "cell_type": "code",
      "source": [
        "data.info()"
      ],
      "metadata": {
        "colab": {
          "base_uri": "https://localhost:8080/"
        },
        "id": "fWtGIS_uS7Io",
        "outputId": "bdf01e11-8a11-4694-a7f8-ba9edd124427"
      },
      "execution_count": 23,
      "outputs": [
        {
          "output_type": "stream",
          "name": "stdout",
          "text": [
            "<class 'pandas.core.frame.DataFrame'>\n",
            "RangeIndex: 125973 entries, 0 to 125972\n",
            "Data columns (total 42 columns):\n",
            " #   Column                       Non-Null Count   Dtype  \n",
            "---  ------                       --------------   -----  \n",
            " 0   duration                     125973 non-null  int64  \n",
            " 1   protocol_type                125973 non-null  object \n",
            " 2   service                      125973 non-null  object \n",
            " 3   flag                         125973 non-null  object \n",
            " 4   src_bytes                    125973 non-null  int64  \n",
            " 5   dst_bytes                    125973 non-null  int64  \n",
            " 6   land                         125973 non-null  int64  \n",
            " 7   wrong_fragment               125973 non-null  int64  \n",
            " 8   urgent                       125973 non-null  int64  \n",
            " 9   hot                          125973 non-null  int64  \n",
            " 10  num_failed_logins            125973 non-null  int64  \n",
            " 11  logged_in                    125973 non-null  int64  \n",
            " 12  num_compromised              125973 non-null  int64  \n",
            " 13  root_shell                   125973 non-null  int64  \n",
            " 14  su_attempted                 125973 non-null  int64  \n",
            " 15  num_root                     125973 non-null  int64  \n",
            " 16  num_file_creations           125973 non-null  int64  \n",
            " 17  num_shells                   125973 non-null  int64  \n",
            " 18  num_access_files             125973 non-null  int64  \n",
            " 19  num_outbound_cmds            125973 non-null  int64  \n",
            " 20  is_host_login                125973 non-null  int64  \n",
            " 21  is_guest_login               125973 non-null  int64  \n",
            " 22  count                        125973 non-null  int64  \n",
            " 23  srv_count                    125973 non-null  int64  \n",
            " 24  serror_rate                  125973 non-null  float64\n",
            " 25  srv_serror_rate              125973 non-null  float64\n",
            " 26  rerror_rate                  125973 non-null  float64\n",
            " 27  srv_rerror_rate              125973 non-null  float64\n",
            " 28  same_srv_rate                125973 non-null  float64\n",
            " 29  diff_srv_rate                125973 non-null  float64\n",
            " 30  srv_diff_host_rate           125973 non-null  float64\n",
            " 31  dst_host_count               125973 non-null  int64  \n",
            " 32  dst_host_srv_count           125973 non-null  int64  \n",
            " 33  dst_host_same_srv_rate       125973 non-null  float64\n",
            " 34  dst_host_diff_srv_rate       125973 non-null  float64\n",
            " 35  dst_host_same_src_port_rate  125973 non-null  float64\n",
            " 36  dst_host_srv_diff_host_rate  125973 non-null  float64\n",
            " 37  dst_host_serror_rate         125973 non-null  float64\n",
            " 38  dst_host_srv_serror_rate     125973 non-null  float64\n",
            " 39  dst_host_rerror_rate         125973 non-null  float64\n",
            " 40  dst_host_srv_rerror_rate     125973 non-null  float64\n",
            " 41  label                        125973 non-null  object \n",
            "dtypes: float64(15), int64(23), object(4)\n",
            "memory usage: 40.4+ MB\n"
          ]
        }
      ]
    },
    {
      "cell_type": "code",
      "source": [
        "encoded_data = data.copy()\n",
        "\n",
        "numeric_columns = encoded_data.select_dtypes(include='number').columns\n",
        "scaler = StandardScaler()\n",
        "encoded_data[numeric_columns] = scaler.fit_transform(encoded_data[numeric_columns])\n",
        "\n",
        "encoders = {}\n",
        "for feature in encoded_data.select_dtypes(include=\"object\").columns.values:\n",
        "    encoder = preprocessing.LabelEncoder()\n",
        "    encoded_data[feature] = encoder.fit_transform(encoded_data[feature])\n",
        "    encoders[feature] = encoder\n",
        "\n",
        "encoder_for_label = encoders['label']\n",
        "\n",
        "features = encoded_data.drop(['label'], axis=1)\n",
        "labels = encoded_data[['label']]"
      ],
      "metadata": {
        "id": "CGd5YUPUSPKJ"
      },
      "execution_count": 24,
      "outputs": []
    },
    {
      "cell_type": "code",
      "source": [
        "x_train, x_test, y_train, y_test = train_test_split(features, labels, test_size=0.20, random_state=42)"
      ],
      "metadata": {
        "id": "zmyqqX9WUpY3"
      },
      "execution_count": 25,
      "outputs": []
    },
    {
      "cell_type": "code",
      "source": [
        "import xgboost as xgb\n",
        "from sklearn.metrics import accuracy_score, classification_report, confusion_matrix\n",
        "\n",
        "# Prepare DMatrix\n",
        "train_reg = xgb.DMatrix(x_train, y_train, enable_categorical=True)\n",
        "\n",
        "params = {\"objective\": \"multi:softprob\", \"num_class\": len(encoder_for_label.classes_), \"eval_metric\": \"merror\"}\n",
        "model = xgb.train(params=params, dtrain=train_reg, num_boost_round=1)"
      ],
      "metadata": {
        "id": "J0g0yqF2UtDc"
      },
      "execution_count": 26,
      "outputs": []
    },
    {
      "cell_type": "code",
      "source": [
        "# Predictions\n",
        "test_reg = xgb.DMatrix(x_test, y_test, enable_categorical=True)\n",
        "y_pred = model.predict(test_reg)\n",
        "y_pred_classes = np.argmax(y_pred, axis=1)\n",
        "\n",
        "# Classification Report\n",
        "class_report = classification_report(y_test, y_pred_classes)\n",
        "print(f'\\nClassification Report:\\n{class_report}')"
      ],
      "metadata": {
        "colab": {
          "base_uri": "https://localhost:8080/"
        },
        "id": "0q1aV3RbaCo7",
        "outputId": "f22daf83-e845-4a6a-d4ef-21f248b154bc"
      },
      "execution_count": 27,
      "outputs": [
        {
          "output_type": "stream",
          "name": "stdout",
          "text": [
            "\n",
            "Classification Report:\n",
            "              precision    recall  f1-score   support\n",
            "\n",
            "           0       1.00      1.00      1.00      9181\n",
            "           1       0.98      0.81      0.89       235\n",
            "           2       0.99      0.97      0.98      2357\n",
            "           3       0.99      1.00      0.99     13422\n",
            "\n",
            "    accuracy                           0.99     25195\n",
            "   macro avg       0.99      0.94      0.96     25195\n",
            "weighted avg       0.99      0.99      0.99     25195\n",
            "\n"
          ]
        }
      ]
    },
    {
      "cell_type": "code",
      "source": [
        "# Confusion Matrix\n",
        "encoded_label_map = {encoded_label: original_label for encoded_label, original_label in enumerate(encoder_for_label.classes_)}\n",
        "cm = confusion_matrix(y_test, y_pred_classes, labels = list(encoded_label_map.keys()))\n",
        "plot_confusion_matrix(cm, classes = list(encoded_label_map.values()))"
      ],
      "metadata": {
        "colab": {
          "base_uri": "https://localhost:8080/",
          "height": 0
        },
        "id": "prGorOw-V253",
        "outputId": "e025da5f-d03c-4235-ad60-75ace1cdd68c"
      },
      "execution_count": 28,
      "outputs": [
        {
          "output_type": "stream",
          "name": "stdout",
          "text": [
            "Confusion matrix, without normalization\n"
          ]
        },
        {
          "output_type": "display_data",
          "data": {
            "text/plain": [
              "<Figure size 640x480 with 2 Axes>"
            ],
            "image/png": "[encoded data removed]"
          },
          "metadata": {}
        }
      ]
    },
    {
      "cell_type": "markdown",
      "source": [
        "# Prediction"
      ],
      "metadata": {
        "id": "tHVV-IQNsRMs"
      }
    },
    {
      "cell_type": "code",
      "source": [
        "def preprocess_input(x):\n",
        "    processed_data = x.copy()\n",
        "    processed_data[numeric_columns] = scaler.transform(processed_data[numeric_columns])\n",
        "    for feature in processed_data.select_dtypes(include=\"object\").columns.values:\n",
        "        encoder = encoders[feature]\n",
        "        processed_data[feature] = encoder.transform(processed_data[feature])\n",
        "\n",
        "    return processed_data\n",
        "\n",
        "def predict(x):\n",
        "    processed_data = preprocess_input(x)\n",
        "    data_dmatrix = xgb.DMatrix(processed_data, enable_categorical=True)\n",
        "\n",
        "    y_pred = model.predict(data_dmatrix)\n",
        "\n",
        "    best_class_index = np.argmax(y_pred, axis=1)[0]\n",
        "    best_class_probability = np.max(y_pred, axis=1)[0]\n",
        "    best_class_label = encoded_label_map[best_class_index]\n",
        "\n",
        "    return best_class_label, best_class_probability"
      ],
      "metadata": {
        "id": "fTw1fGq4sUGj"
      },
      "execution_count": 29,
      "outputs": []
    },
    {
      "cell_type": "markdown",
      "source": [
        "# Variant 3"
      ],
      "metadata": {
        "id": "bebANN_v-XZL"
      }
    },
    {
      "cell_type": "code",
      "source": [
        "!pip -q install pybloom_live"
      ],
      "metadata": {
        "colab": {
          "base_uri": "https://localhost:8080/"
        },
        "id": "sqUkhQG6LSUO",
        "outputId": "c822bfda-67c5-4634-b7f2-ed15d81144cc"
      },
      "execution_count": 30,
      "outputs": [
        {
          "output_type": "stream",
          "name": "stdout",
          "text": [
            "  Preparing metadata (setup.py) ... \u001b[?25l\u001b[?25hdone\n",
            "\u001b[2K     \u001b[90m━━━━━━━━━━━━━━━━━━━━━━━━━━━━━━━━━━━━━━━━\u001b[0m \u001b[32m285.3/285.3 kB\u001b[0m \u001b[31m3.8 MB/s\u001b[0m eta \u001b[36m0:00:00\u001b[0m\n",
            "\u001b[?25h  Building wheel for pybloom_live (setup.py) ... \u001b[?25l\u001b[?25hdone\n"
          ]
        }
      ]
    },
    {
      "cell_type": "code",
      "source": [
        "attacks = data[data['label'] != 'normal']\n",
        "attack_classes = list(attacks['label'].unique())\n",
        "attacks_to_add = attacks.sample(frac=0.5, random_state=42)\n",
        "value_counts = attacks_to_add['label'].value_counts()\n",
        "\n",
        "attack_classes"
      ],
      "metadata": {
        "id": "vbpcrYcTKnEi",
        "colab": {
          "base_uri": "https://localhost:8080/"
        },
        "outputId": "54135f63-9b7b-44f2-8acf-b2d2156b3860"
      },
      "execution_count": 31,
      "outputs": [
        {
          "output_type": "execute_result",
          "data": {
            "text/plain": [
              "['DOS', 'Other', 'Probe']"
            ]
          },
          "metadata": {},
          "execution_count": 31
        }
      ]
    },
    {
      "cell_type": "code",
      "source": [
        "from pybloom_live import BloomFilter\n",
        "from tqdm import tqdm\n",
        "\n",
        "bloom_filters = {class_name: BloomFilter(capacity=value_counts.get(class_name), error_rate=0.001) for class_name in attack_classes}\n",
        "normal_bloom_filter = BloomFilter(capacity=len(attacks_to_add), error_rate=0.001)"
      ],
      "metadata": {
        "id": "7cjAh3KRoUrS"
      },
      "execution_count": 32,
      "outputs": []
    },
    {
      "cell_type": "code",
      "source": [
        "added_to_bloom_filters = set()\n",
        "\n",
        "for idx, row in tqdm(attacks_to_add.iterrows(), total=len(attacks_to_add)):\n",
        "    x = pd.DataFrame([row.drop('label')])\n",
        "    label = row['label']\n",
        "    bloom_filters[label].add(x)\n",
        "    normal_bloom_filter.add(x)\n",
        "    added_to_bloom_filters.add(hash(tuple(row)))"
      ],
      "metadata": {
        "colab": {
          "base_uri": "https://localhost:8080/"
        },
        "id": "XtalOMHpPT2o",
        "outputId": "138c4c40-3d45-400d-b018-97a2291f7fa5"
      },
      "execution_count": 33,
      "outputs": [
        {
          "output_type": "stream",
          "name": "stderr",
          "text": [
            "100%|██████████| 29315/29315 [07:19<00:00, 66.77it/s]\n"
          ]
        }
      ]
    },
    {
      "cell_type": "code",
      "source": [
        "import time\n",
        "\n",
        "def test_ml_bloom_filters(x, label):\n",
        "    start_time = time.time()\n",
        "    predicted_label, _ = predict(x)\n",
        "    is_fp, is_fn = False, False\n",
        "    if predicted_label == 'normal' and label != 'normal':\n",
        "      is_fn = True\n",
        "    elif predicted_label != 'normal':\n",
        "      bloom_filter = bloom_filters[predicted_label]\n",
        "      bloom_filter_contains_item = bloom_filter.__contains__(x)\n",
        "      item_added = hash(tuple(x)) in added_to_bloom_filters\n",
        "\n",
        "      is_fp = bloom_filter_contains_item and not item_added\n",
        "      is_fn = item_added and not bloom_filter_contains_item\n",
        "\n",
        "    query_time = time.time() - start_time\n",
        "    return is_fp, is_fn, query_time\n",
        "\n",
        "def test_normal_bloom_filter(x, label):\n",
        "    start_time = time.time()\n",
        "    bloom_filter_contains_item = normal_bloom_filter.__contains__(x)\n",
        "    item_added = hash(tuple(x)) in added_to_bloom_filters\n",
        "    is_fp = bloom_filter_contains_item and not item_added\n",
        "    query_time = time.time() - start_time\n",
        "    return is_fp, query_time"
      ],
      "metadata": {
        "id": "VkEIZwonLBnv"
      },
      "execution_count": 34,
      "outputs": []
    },
    {
      "cell_type": "code",
      "source": [
        "classes = list(data['label'].unique())\n",
        "test_items = data.sample(frac=0.1, random_state=42)\n",
        "\n",
        "# For ML Model + Class-Specific Bloom Filters\n",
        "fp_ml_class_wise_counts = {class_name: 0 for class_name in classes}\n",
        "fn_ml_class_wise_counts = {class_name: 0 for class_name in classes}\n",
        "total_ml_time = 0\n",
        "\n",
        "# For Normal Bloom Filter - Simulating class-wise FP\n",
        "fp_bf_class_wise_counts = {class_name: 0 for class_name in classes}\n",
        "total_bf_time = 0\n",
        "\n",
        "for idx, row in tqdm(test_items.iterrows(), total=len(test_items)):\n",
        "    x = pd.DataFrame([row.drop('label')])\n",
        "    label = row['label']\n",
        "\n",
        "    # Testing for ML Model + Class-Specific Bloom Filters\n",
        "    is_fp_ml, is_fn_ml, ml_time = test_ml_bloom_filters(x, label)\n",
        "    if is_fp_ml:\n",
        "        fp_ml_class_wise_counts[label] += 1\n",
        "    if is_fn_ml:\n",
        "        fn_ml_class_wise_counts[label] += 1\n",
        "    total_ml_time += ml_time\n",
        "\n",
        "    # Testing for Normal Bloom Filter\n",
        "    is_fp_bf, bf_time = test_normal_bloom_filter(x)\n",
        "    if is_fp_bf:\n",
        "        fp_bf_class_wise_counts[label] += 1\n",
        "    total_bf_time += bf_time"
      ],
      "metadata": {
        "colab": {
          "base_uri": "https://localhost:8080/"
        },
        "id": "jO8apKUtW6dm",
        "outputId": "eac1a312-7c75-4a7a-fb05-b974cba991c4"
      },
      "execution_count": 35,
      "outputs": [
        {
          "output_type": "stream",
          "name": "stderr",
          "text": [
            "100%|██████████| 12597/12597 [08:00<00:00, 26.21it/s]\n"
          ]
        }
      ]
    },
    {
      "cell_type": "code",
      "source": [
        "value_counts = test_items['label'].value_counts()\n",
        "print(value_counts)"
      ],
      "metadata": {
        "colab": {
          "base_uri": "https://localhost:8080/"
        },
        "id": "ajqvprCAKGA3",
        "outputId": "f030361b-d186-4571-d0c2-ce0cd098b06c"
      },
      "execution_count": 36,
      "outputs": [
        {
          "output_type": "stream",
          "name": "stdout",
          "text": [
            "normal    6750\n",
            "DOS       4544\n",
            "Probe     1185\n",
            "Other      118\n",
            "Name: label, dtype: int64\n"
          ]
        }
      ]
    },
    {
      "cell_type": "code",
      "source": [
        "denominators_fp = {class_name: len(test_items) - value_counts.get(class_name, 0) for class_name in classes}\n",
        "\n",
        "# FP Rates for ML model and Bloom Filter - dividing by the respective denominators\n",
        "fp_rates_ml_class_wise = {class_name: fp_ml_class_wise_counts.get(class_name, 0) / denominators_fp[class_name] for class_name in classes}\n",
        "fp_rates_bf_class_wise = {class_name: fp_bf_class_wise_counts.get(class_name, 0) / denominators_fp[class_name] for class_name in classes}\n",
        "\n",
        "# FN Rates for ML model - dividing by total instances of each malicious class\n",
        "fn_rates_ml_class_wise = {class_name: fn_ml_class_wise_counts.get(class_name, 0) / value_counts.get(class_name, 1) for class_name in classes}\n",
        "\n",
        "# Average Query Times\n",
        "avg_ml_time = total_ml_time / len(test_items)\n",
        "avg_bf_time = total_bf_time / len(test_items)"
      ],
      "metadata": {
        "id": "n0L2l4euA2Ro"
      },
      "execution_count": 37,
      "outputs": []
    },
    {
      "cell_type": "code",
      "source": [
        "!pip -q install pympler"
      ],
      "metadata": {
        "colab": {
          "base_uri": "https://localhost:8080/"
        },
        "id": "lLYl52fB8QcS",
        "outputId": "53c0113a-f3c9-4a9a-e695-0ad22fbb74cb"
      },
      "execution_count": 38,
      "outputs": [
        {
          "output_type": "stream",
          "name": "stdout",
          "text": [
            "\u001b[?25l     \u001b[90m━━━━━━━━━━━━━━━━━━━━━━━━━━━━━━━━━━━━━━━━\u001b[0m \u001b[32m0.0/164.8 kB\u001b[0m \u001b[31m?\u001b[0m eta \u001b[36m-:--:--\u001b[0m\r\u001b[2K     \u001b[91m━━━━━━━━━━━━━━━━━\u001b[0m\u001b[90m╺\u001b[0m\u001b[90m━━━━━━━━━━━━━━━━━━━━━━\u001b[0m \u001b[32m71.7/164.8 kB\u001b[0m \u001b[31m1.9 MB/s\u001b[0m eta \u001b[36m0:00:01\u001b[0m\r\u001b[2K     \u001b[90m━━━━━━━━━━━━━━━━━━━━━━━━━━━━━━━━━━━━━━━━\u001b[0m \u001b[32m164.8/164.8 kB\u001b[0m \u001b[31m3.2 MB/s\u001b[0m eta \u001b[36m0:00:00\u001b[0m\n",
            "\u001b[?25h"
          ]
        }
      ]
    },
    {
      "cell_type": "code",
      "source": [
        "from pympler import asizeof\n",
        "\n",
        "ml_model_size = asizeof.asizeof(model)\n",
        "encoders_size = sum(asizeof.asizeof(encoder) for encoder in encoders.values())\n",
        "ml_bloom_filters_size = sum(asizeof.asizeof(bloom_filter) for bloom_filter in bloom_filters.values())\n",
        "total_ml_size = ml_model_size + ml_bloom_filters_size + encoders_size\n",
        "\n",
        "normal_bf_size = asizeof.asizeof(normal_bloom_filter)\n"
      ],
      "metadata": {
        "id": "4o7fOJp9jPfI"
      },
      "execution_count": 39,
      "outputs": []
    },
    {
      "cell_type": "code",
      "source": [
        "import pandas as pd\n",
        "\n",
        "data = [{\n",
        "    \"Class\": class_name,\n",
        "    \"FP Rate (ML+BF)\": fp_rates_ml_class_wise[class_name],\n",
        "    \"FP Rate (Normal BF)\": fp_rates_bf_class_wise[class_name],\n",
        "    \"FN Rate (ML+BF)\": fn_rates_ml_class_wise[class_name]\n",
        "} for class_name in classes]\n",
        "\n",
        "results_df = pd.DataFrame(data)\n",
        "\n",
        "overall_metrics_df = pd.DataFrame({\n",
        "    \"ML+BF\": [avg_ml_time, total_ml_size / 1024],\n",
        "    \"Normal BF\": [avg_bf_time, normal_bf_size / 1024]\n",
        "}, index=[\"Average Query Time (seconds)\", \"Memory Footprint (kB)\"])\n",
        "\n",
        "print(\"Comparison of FP and FN Rates:\")\n",
        "print(results_df.to_string(index=False))\n",
        "\n",
        "print(\"\\nOverall Performance Metrics:\")\n",
        "print(overall_metrics_df)"
      ],
      "metadata": {
        "colab": {
          "base_uri": "https://localhost:8080/"
        },
        "id": "2LrNbPpjhxi5",
        "outputId": "db2046e3-21d6-4bfa-ab37-24b331f51722"
      },
      "execution_count": 40,
      "outputs": [
        {
          "output_type": "stream",
          "name": "stdout",
          "text": [
            "Comparison of FP and FN Rates:\n",
            " Class  FP Rate (ML+BF)  FP Rate (Normal BF)  FN Rate (ML+BF)\n",
            "normal         0.000000             0.001881         0.000000\n",
            "   DOS         0.286601             0.287719         0.002861\n",
            " Other         0.004968             0.005930         0.177966\n",
            " Probe         0.048808             0.050824         0.026160\n",
            "\n",
            "Overall Performance Metrics:\n",
            "                                  ML+BF  Normal BF\n",
            "Average Query Time (seconds)   0.026785   0.007628\n",
            "Memory Footprint (kB)         56.945312  52.445312\n"
          ]
        }
      ]
    },
    {
      "cell_type": "markdown",
      "source": [
        "# Variant 4"
      ],
      "metadata": {
        "id": "xzwu68MI-azl"
      }
    },
    {
      "cell_type": "code",
      "source": [
        "def combined_prediction(x):\n",
        "    if not normal_bloom_filter.__contains__(x):\n",
        "        best_class_label, best_class_probability = predict(x)\n",
        "        return best_class_label\n",
        "    else:\n",
        "        return 'attack'\n",
        "\n",
        "def test_combined_approach(x, label):\n",
        "    start_time = time.time()\n",
        "    predicted_label = combined_prediction(x)\n",
        "\n",
        "    is_fp, is_fn = False, False\n",
        "    if predicted_label == 'normal' and label != 'normal':\n",
        "        is_fn = True\n",
        "    elif predicted_label != 'normal' and label == 'normal':\n",
        "        is_fp = True\n",
        "\n",
        "    query_time = time.time() - start_time\n",
        "    return is_fp, is_fn, query_time\n",
        "\n",
        "def test_normal_bloom_filter(x, label):\n",
        "    start_time = time.time()\n",
        "    bloom_filter_contains_item = normal_bloom_filter.__contains__(x)\n",
        "    item_added = hash(tuple(x)) in added_to_bloom_filters\n",
        "    is_fp = bloom_filter_contains_item and label == 'normal'\n",
        "    is_fn = label != 'normal' and not bloom_filter_contains_item\n",
        "    query_time = time.time() - start_time\n",
        "    return is_fp, is_fn, query_time"
      ],
      "metadata": {
        "id": "JIdgglU3LJcH"
      },
      "execution_count": 44,
      "outputs": []
    },
    {
      "cell_type": "code",
      "source": [
        "fp_combined_counts = fn_combined_counts = total_combined_time = total_bf_time = 0\n",
        "fp_bf_counts = fn_bf_counts = 0\n",
        "\n",
        "for idx, row in tqdm(test_items.iterrows(), total=len(test_items)):\n",
        "    x = pd.DataFrame([row.drop('label')])\n",
        "    label = row['label']\n",
        "\n",
        "    is_fp, is_fn, combined_time = test_combined_approach(x, label)\n",
        "    if is_fp:\n",
        "        fp_combined_counts += 1\n",
        "    if is_fn:\n",
        "        fn_combined_counts += 1\n",
        "    total_combined_time += combined_time\n",
        "\n",
        "\n",
        "    is_fp_bf, is_fn_bf, bf_time = test_normal_bloom_filter(x, label)\n",
        "    if is_fp_bf:\n",
        "        fp_bf_counts += 1\n",
        "    if is_fn_bf:\n",
        "        fn_bf_counts += 1\n",
        "    total_bf_time += bf_time"
      ],
      "metadata": {
        "colab": {
          "base_uri": "https://localhost:8080/"
        },
        "id": "iNhPFsMHNSvz",
        "outputId": "6b0c8f2e-e809-4fe5-ad02-5809a23c45ac"
      },
      "execution_count": 45,
      "outputs": [
        {
          "output_type": "stream",
          "name": "stderr",
          "text": [
            "100%|██████████| 12597/12597 [07:13<00:00, 29.06it/s]\n"
          ]
        }
      ]
    },
    {
      "cell_type": "code",
      "source": [
        "# Calculating rates and average times\n",
        "fp_rate_combined = fp_combined_counts / len(test_items)\n",
        "fn_rate_combined = fn_combined_counts / len(test_items)\n",
        "fp_rate_bf = fp_bf_counts / len(test_items)\n",
        "fn_rate_bf = fn_bf_counts / len(test_items)\n",
        "\n",
        "avg_combined_time = total_combined_time / len(test_items)\n",
        "avg_bf_time = total_bf_time / len(test_items)\n",
        "\n",
        "combined_size = normal_bf_size + ml_model_size + encoders_size\n",
        "\n",
        "results_df = pd.DataFrame({\n",
        "    \"Approach\": [\"BF+ML\", \"Normal BF\"],\n",
        "    \"FP Rate\": [fp_rate_combined, fp_rate_bf],\n",
        "    \"Missed Rate\": [fn_rate_combined, fn_rate_bf],\n",
        "    \"Avg Query Time (seconds)\": [avg_combined_time, avg_bf_time],\n",
        "    \"Memory (kB)\": [combined_size / 1024, normal_bf_size / 1024]\n",
        "})\n",
        "\n",
        "print(\"Performance Comparison:\")\n",
        "print(results_df)"
      ],
      "metadata": {
        "colab": {
          "base_uri": "https://localhost:8080/"
        },
        "id": "_MhvOyAYONoT",
        "outputId": "c83137c7-f2c3-4d3a-9f72-3852bb985777"
      },
      "execution_count": 43,
      "outputs": [
        {
          "output_type": "stream",
          "name": "stdout",
          "text": [
            "Performance Comparison:\n",
            "    Approach   FP Rate  Missed Rate  Avg Query Time (seconds)  Memory (kB)\n",
            "0      BF+ML  0.001350     0.001985                  0.023887    54.906250\n",
            "1  Normal BF  0.000873     0.228308                  0.007382    52.445312\n"
          ]
        }
      ]
    }
  ]
}